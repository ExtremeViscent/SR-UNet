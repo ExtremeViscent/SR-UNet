{
 "cells": [
  {
   "cell_type": "code",
   "execution_count": 2,
   "metadata": {},
   "outputs": [],
   "source": [
    "from glob import glob\n",
    "\n",
    "from matplotlib import image\n",
    "from sklearn.utils import resample\n",
    "\n",
    "from torch.utils.data import Dataset\n",
    "\n",
    "import numpy as np\n",
    "import os\n",
    "import os.path as op\n",
    "import glob\n",
    "import sys\n",
    "import logging\n",
    "import SimpleITK as sitk\n",
    "from tqdm import trange, tqdm\n",
    "from tqdm.contrib.concurrent import thread_map\n",
    "from multiprocessing import cpu_count\n",
    "import torchio as tio\n",
    "import h5py as h5\n",
    "import matplotlib.pyplot as plt"
   ]
  },
  {
   "cell_type": "code",
   "execution_count": 4,
   "metadata": {},
   "outputs": [
    {
     "name": "stdout",
     "output_type": "stream",
     "text": [
      "709\n"
     ]
    }
   ],
   "source": [
    "data_dir = '/media/hdd/dhcp/dhcp_hires'\n",
    "list_basenames = glob.glob(op.join(data_dir,'labels', '*.nii.gz'))\n",
    "list_basenames.sort()\n",
    "print(len(list_basenames))\n",
    "list_images_t1 = [x.replace('_desc-drawem9_dseg.nii.gz', '_T1w_brain.nii.gz') for x in list_basenames]\n",
    "list_images_t2 = [x.replace('_desc-drawem9_dseg.nii.gz', '_T2w_brain.nii.gz') for x in list_basenames]\n",
    "list_images_t1 = [x.replace('_desc-drawem9_dseg_1mm.nii.gz', '_T1w_brain_1mm.nii.gz') for x in list_images_t1]\n",
    "list_images_t2 = [x.replace('_desc-drawem9_dseg_1mm.nii.gz', '_T2w_brain_1mm.nii.gz') for x in list_images_t2]\n",
    "# TODO: delete this\n",
    "list_images_t1 = [x.replace(op.join(data_dir, 'labels'), op.join(data_dir, 'images_t1')) for x in list_images_t1]\n",
    "list_images_t2 = [x.replace(op.join(data_dir, 'labels'), op.join(data_dir, 'images_t2')) for x in list_images_t2]\n",
    "list_basenames = [op.basename(x).split('_')[0] for x in list_images_t1]"
   ]
  },
  {
   "cell_type": "code",
   "execution_count": 5,
   "metadata": {},
   "outputs": [],
   "source": [
    "list_t1 = []\n",
    "list_t2 = []\n",
    "for x in list_images_t1:\n",
    "    if op.isfile(x):    list_t1.append(x)\n",
    "for x in list_images_t2:\n",
    "    if op.isfile(x):    list_t2.append(x)"
   ]
  },
  {
   "cell_type": "code",
   "execution_count": 6,
   "metadata": {},
   "outputs": [
    {
     "data": {
      "text/plain": [
       "709"
      ]
     },
     "execution_count": 6,
     "metadata": {},
     "output_type": "execute_result"
    }
   ],
   "source": [
    "len(list_t1)"
   ]
  },
  {
   "cell_type": "code",
   "execution_count": 7,
   "metadata": {},
   "outputs": [
    {
     "name": "stderr",
     "output_type": "stream",
     "text": [
      "100%|██████████| 709/709 [08:47<00:00,  1.34it/s]\n",
      "100%|██████████| 709/709 [08:41<00:00,  1.36it/s]\n"
     ]
    }
   ],
   "source": [
    "t1_landmarks = tio.HistogramStandardization.train(list_t1)\n",
    "t2_landmarks = tio.HistogramStandardization.train(list_t2)"
   ]
  },
  {
   "cell_type": "code",
   "execution_count": 9,
   "metadata": {},
   "outputs": [],
   "source": [
    "np.save(op.join(data_dir,'landmarks_t1.npy'),t1_landmarks)\n",
    "np.save(op.join(data_dir,'landmarks_t2.npy'),t2_landmarks)"
   ]
  }
 ],
 "metadata": {
  "kernelspec": {
   "display_name": "bunet",
   "language": "python",
   "name": "python3"
  },
  "language_info": {
   "codemirror_mode": {
    "name": "ipython",
    "version": 3
   },
   "file_extension": ".py",
   "mimetype": "text/x-python",
   "name": "python",
   "nbconvert_exporter": "python",
   "pygments_lexer": "ipython3",
   "version": "3.10.4"
  },
  "orig_nbformat": 4,
  "vscode": {
   "interpreter": {
    "hash": "5023b5ad8fb50cea70bd0bb92039e38e5f5468d4f2da817e095a49bc032fdc4b"
   }
  }
 },
 "nbformat": 4,
 "nbformat_minor": 2
}
