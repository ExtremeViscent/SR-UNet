{
 "cells": [
  {
   "cell_type": "code",
   "execution_count": 1,
   "metadata": {},
   "outputs": [],
   "source": [
    "from glob import glob\n",
    "\n",
    "from matplotlib import image\n",
    "from sklearn.utils import resample\n",
    "\n",
    "from torch.utils.data import Dataset\n",
    "\n",
    "import numpy as np\n",
    "import os\n",
    "import os.path as op\n",
    "import glob\n",
    "import sys\n",
    "import logging\n",
    "import SimpleITK as sitk\n",
    "from tqdm import trange, tqdm\n",
    "from tqdm.contrib.concurrent import thread_map\n",
    "from multiprocessing import cpu_count\n",
    "import torchio as tio\n",
    "import h5py as h5\n",
    "import matplotlib.pyplot as plt"
   ]
  },
  {
   "cell_type": "code",
   "execution_count": 7,
   "metadata": {},
   "outputs": [
    {
     "name": "stdout",
     "output_type": "stream",
     "text": [
      "gt_t1 (145, 145, 108)\n",
      "gt_t2 (145, 145, 108)\n",
      "image_t1 (145, 145, 108)\n",
      "image_t2 (145, 145, 108)\n"
     ]
    }
   ],
   "source": [
    "h5file = '/home/viscent/hdd/dhcp/dhcp_lores/preprocessed_h5/sub-CC00582XX14.h5'\n",
    "\n",
    "with h5.File(h5file, 'r') as f:\n",
    "    for k,v in f.items():\n",
    "        print(k, v.shape)"
   ]
  },
  {
   "cell_type": "code",
   "execution_count": 4,
   "metadata": {},
   "outputs": [],
   "source": [
    "data_dir = '/media/hdd/HCP_1200'\n",
    "list_dir = glob.glob(op.join(data_dir, '*'))\n",
    "list_dir.sort()\n",
    "list_basenames = [op.basename(x) for x in list_dir]\n",
    "list_images_t1 = [op.join(x,'unprocessed','3T','T1w_MPR1',op.basename(x)+'_3T_T1w_MPR1.nii.gz') for x in list_dir]\n",
    "list_images_t2 = [op.join(x,'unprocessed','3T','T2w_SPC1',op.basename(x)+'_3T_T2w_SPC1.nii.gz') for x in list_dir]\n",
    "\n",
    "# list_dir = list_dir[:300]\n",
    "# list_basenames = list_basenames[:300]\n",
    "# list_images_t1 = list_images_t1[:300]\n",
    "# list_images_t2 = list_images_t2[:300]\n",
    "\n",
    "num_samples = len(list_dir)\n",
    "spacing = [1.0,1.0,1.0]\n",
    "spacing = np.array(spacing)\n",
    "spacing *= 8\n",
    "target_shape = (108, 145, 145)\n",
    "factor = spacing[2] / spacing[0]\n",
    "resize_transform = tio.Resize(target_shape=target_shape)\n",
    "resample_transform = tio.Resample(target=spacing)\n",
    "blur_transform = tio.RandomBlur(6)\n",
    "transform  = tio.Compose([resample_transform,resize_transform,blur_transform])\n",
    "transform_gt = resize_transform\n"
   ]
  },
  {
   "cell_type": "code",
   "execution_count": 9,
   "metadata": {},
   "outputs": [],
   "source": [
    "def _load(x):\n",
    "    img_t1, img_t2, basename = x\n",
    "    preprocessed_path = op.join(data_dir, \"preprocessed\")\n",
    "    if op.exists(op.join(preprocessed_path, basename + '.h5')):\n",
    "        with h5.File(op.join(preprocessed_path, basename + '.h5'), 'r') as f:\n",
    "            if input_dual_modal:\n",
    "                image = np.stack(f['image_t1'][:], f['image_t2'][:])\n",
    "            else:\n",
    "                image = np.expand_dims(f['image_{}'.format(input_modalities[0])][:], axis=0)\n",
    "            if output_dual_modal:\n",
    "                gt = np.stack(f['gt_t1'][:], f['gt_t2'][:])\n",
    "            else:\n",
    "                gt = np.expand_dims(f['gt_{}'.format(output_modalities[0])][:], axis=0)\n",
    "        return image, gt\n",
    "    image_t1 = sitk.ReadImage(img_t1)\n",
    "    image_t2 = sitk.ReadImage(img_t2)\n",
    "    if True:\n",
    "        image_t1 = transform_gt(image_t1)\n",
    "        image_t2 = transform_gt(image_t2)\n",
    "    image_t1 = sitk.GetArrayFromImage(image_t1)\n",
    "    image_t2 = sitk.GetArrayFromImage(image_t2)\n",
    "    image_t1 = (image_t1 - np.mean(image_t1)) / np.std(image_t1)\n",
    "    image_t2 = (image_t2 - np.mean(image_t2)) / np.std(image_t2)\n",
    "    image_t1 = image_t1\n",
    "    image_t2 = image_t2\n",
    "    if not op.exists(preprocessed_path):\n",
    "        os.makedirs(preprocessed_path)\n",
    "    sitk.WriteImage(sitk.GetImageFromArray(image_t1), op.join(preprocessed_path, basename + '_t1.nii.gz'))\n",
    "    sitk.WriteImage(sitk.GetImageFromArray(image_t2), op.join(preprocessed_path, basename + '_t2.nii.gz'))\n",
    "\n",
    "def load(list_images_t1,list_images_t2,list_basenames):\n",
    "    thread_map(_load, zip(list_images_t1, list_images_t2,list_basenames), max_workers=32, total=num_samples)\n",
    "\n"
   ]
  },
  {
   "cell_type": "code",
   "execution_count": 10,
   "metadata": {},
   "outputs": [
    {
     "data": {
      "application/vnd.jupyter.widget-view+json": {
       "model_id": "b09282aff98a4daf92b08814d8747b12",
       "version_major": 2,
       "version_minor": 0
      },
      "text/plain": [
       "  0%|          | 0/1113 [00:00<?, ?it/s]"
      ]
     },
     "metadata": {},
     "output_type": "display_data"
    },
    {
     "name": "stderr",
     "output_type": "stream",
     "text": [
      "/home/viscent/anaconda3/envs/bunet/lib/python3.10/site-packages/torchio/transforms/preprocessing/spatial/resize.py:70: UserWarning: Output shape (109, 145, 146) != target shape (108, 145, 145). Fixing with CropOrPad\n",
      "  warnings.warn(message)\n",
      "/home/viscent/anaconda3/envs/bunet/lib/python3.10/site-packages/torchio/transforms/preprocessing/spatial/resize.py:70: UserWarning: Output shape (109, 145, 145) != target shape (108, 145, 145). Fixing with CropOrPad\n",
      "  warnings.warn(message)\n",
      "/home/viscent/anaconda3/envs/bunet/lib/python3.10/site-packages/torchio/transforms/preprocessing/spatial/resize.py:70: UserWarning: Output shape (108, 145, 146) != target shape (108, 145, 145). Fixing with CropOrPad\n",
      "  warnings.warn(message)\n",
      "/home/viscent/anaconda3/envs/bunet/lib/python3.10/site-packages/torchio/transforms/preprocessing/spatial/resize.py:70: UserWarning: Output shape (108, 146, 145) != target shape (108, 145, 145). Fixing with CropOrPad\n",
      "  warnings.warn(message)\n",
      "/home/viscent/anaconda3/envs/bunet/lib/python3.10/site-packages/torchio/transforms/preprocessing/spatial/resize.py:70: UserWarning: Output shape (108, 146, 146) != target shape (108, 145, 145). Fixing with CropOrPad\n",
      "  warnings.warn(message)\n",
      "/home/viscent/anaconda3/envs/bunet/lib/python3.10/site-packages/torchio/transforms/preprocessing/spatial/resize.py:70: UserWarning: Output shape (109, 146, 146) != target shape (108, 145, 145). Fixing with CropOrPad\n",
      "  warnings.warn(message)\n",
      "/home/viscent/anaconda3/envs/bunet/lib/python3.10/site-packages/torchio/transforms/preprocessing/spatial/resize.py:70: UserWarning: Output shape (109, 146, 145) != target shape (108, 145, 145). Fixing with CropOrPad\n",
      "  warnings.warn(message)\n"
     ]
    }
   ],
   "source": [
    "load(list_images_t1,list_images_t2,list_basenames)"
   ]
  },
  {
   "cell_type": "code",
   "execution_count": null,
   "metadata": {},
   "outputs": [],
   "source": []
  }
 ],
 "metadata": {
  "interpreter": {
   "hash": "5023b5ad8fb50cea70bd0bb92039e38e5f5468d4f2da817e095a49bc032fdc4b"
  },
  "kernelspec": {
   "display_name": "Python 3.10.4 ('bunet')",
   "language": "python",
   "name": "python3"
  },
  "language_info": {
   "codemirror_mode": {
    "name": "ipython",
    "version": 3
   },
   "file_extension": ".py",
   "mimetype": "text/x-python",
   "name": "python",
   "nbconvert_exporter": "python",
   "pygments_lexer": "ipython3",
   "version": "3.10.4"
  },
  "orig_nbformat": 4
 },
 "nbformat": 4,
 "nbformat_minor": 2
}
