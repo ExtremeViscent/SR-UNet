{
 "cells": [
  {
   "cell_type": "code",
   "execution_count": 1,
   "metadata": {},
   "outputs": [],
   "source": [
    "from inference_utils import *"
   ]
  },
  {
   "cell_type": "code",
   "execution_count": 7,
   "metadata": {},
   "outputs": [
    {
     "data": {
      "text/html": [
       "<pre style=\"white-space:pre;overflow-x:auto;line-height:normal;font-family:Menlo,'DejaVu Sans Mono',consolas,'Courier New',monospace\"><span style=\"color: #7fbfbf; text-decoration-color: #7fbfbf\">[08/14/22 15:52:14] </span><span style=\"color: #000080; text-decoration-color: #000080\">INFO    </span> colossalai - root - INFO: Creating dataset with <span style=\"color: #008080; text-decoration-color: #008080; font-weight: bold\">890</span> examples    \n",
       "</pre>\n"
      ],
      "text/plain": [
       "\u001b[2;36m[08/14/22 15:52:14]\u001b[0m\u001b[2;36m \u001b[0m\u001b[34mINFO    \u001b[0m colossalai - root - INFO: Creating dataset with \u001b[1;36m890\u001b[0m examples    \n"
      ]
     },
     "metadata": {},
     "output_type": "display_data"
    },
    {
     "data": {
      "application/vnd.jupyter.widget-view+json": {
       "model_id": "c3cdb05b081a4dc2899b7d1adcc51366",
       "version_major": 2,
       "version_minor": 0
      },
      "text/plain": [
       "  0%|          | 0/890 [00:00<?, ?it/s]"
      ]
     },
     "metadata": {},
     "output_type": "display_data"
    },
    {
     "data": {
      "text/html": [
       "<pre style=\"white-space:pre;overflow-x:auto;line-height:normal;font-family:Menlo,'DejaVu Sans Mono',consolas,'Courier New',monospace\"><span style=\"color: #7fbfbf; text-decoration-color: #7fbfbf\">[08/14/22 15:54:47] </span><span style=\"color: #000080; text-decoration-color: #000080\">INFO    </span> colossalai - root - INFO: Creating dataset with <span style=\"color: #008080; text-decoration-color: #008080; font-weight: bold\">222</span> examples    \n",
       "</pre>\n"
      ],
      "text/plain": [
       "\u001b[2;36m[08/14/22 15:54:47]\u001b[0m\u001b[2;36m \u001b[0m\u001b[34mINFO    \u001b[0m colossalai - root - INFO: Creating dataset with \u001b[1;36m222\u001b[0m examples    \n"
      ]
     },
     "metadata": {},
     "output_type": "display_data"
    },
    {
     "data": {
      "application/vnd.jupyter.widget-view+json": {
       "model_id": "20ac2dc3eb414381af4a896c90706bdc",
       "version_major": 2,
       "version_minor": 0
      },
      "text/plain": [
       "  0%|          | 0/222 [00:00<?, ?it/s]"
      ]
     },
     "metadata": {},
     "output_type": "display_data"
    }
   ],
   "source": [
    "train_loader, test_loader, val_loader = get_dataloader('hcp')"
   ]
  },
  {
   "cell_type": "code",
   "execution_count": 8,
   "metadata": {},
   "outputs": [
    {
     "data": {
      "text/plain": [
       "<Figure size 432x288 with 0 Axes>"
      ]
     },
     "metadata": {},
     "output_type": "display_data"
    }
   ],
   "source": [
    "for idx, (im, gt) in enumerate(train_loader):\n",
    "    plt.imshow(im[0,0,64])\n",
    "    plt.savefig('./inspect/train_%d.png' % idx)\n",
    "    plt.clf()\n",
    "    plt.imshow(gt[0,0,64])\n",
    "    plt.savefig('./inspect/gt_%d.png' % idx)\n",
    "    plt.clf()"
   ]
  }
 ],
 "metadata": {
  "kernelspec": {
   "display_name": "Python 3.10.4 ('bunet')",
   "language": "python",
   "name": "python3"
  },
  "language_info": {
   "codemirror_mode": {
    "name": "ipython",
    "version": 3
   },
   "file_extension": ".py",
   "mimetype": "text/x-python",
   "name": "python",
   "nbconvert_exporter": "python",
   "pygments_lexer": "ipython3",
   "version": "3.10.4"
  },
  "orig_nbformat": 4,
  "vscode": {
   "interpreter": {
    "hash": "5023b5ad8fb50cea70bd0bb92039e38e5f5468d4f2da817e095a49bc032fdc4b"
   }
  }
 },
 "nbformat": 4,
 "nbformat_minor": 2
}
