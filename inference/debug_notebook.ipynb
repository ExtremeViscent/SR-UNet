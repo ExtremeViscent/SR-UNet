{
 "cells": [
  {
   "cell_type": "code",
   "execution_count": null,
   "metadata": {},
   "outputs": [],
   "source": [
    "import sys\n",
    "sys.path.append(\"/media/hdd/viscent/SR-UNet\")\n",
    "from utils.inference_utils import *"
   ]
  },
  {
   "cell_type": "code",
   "execution_count": null,
   "metadata": {},
   "outputs": [],
   "source": []
  },
  {
   "cell_type": "code",
   "execution_count": null,
   "metadata": {},
   "outputs": [],
   "source": [
    "hcp_loader,_,_ = get_dataloader(dataset='hcp',modality='t2',num_samples=100)\n",
    "dhcp_loader,_,_ = get_dataloader(dataset='dhcp',modality='t2',num_samples=100)"
   ]
  },
  {
   "cell_type": "code",
   "execution_count": null,
   "metadata": {},
   "outputs": [],
   "source": [
    "image_tensor, target_tensor = next(iter(dhcp_loader))"
   ]
  },
  {
   "cell_type": "code",
   "execution_count": null,
   "metadata": {},
   "outputs": [],
   "source": [
    "for image_tensor, target_tensor in hcp_loader:\n",
    "    display_multiplanar_center(image_tensor[0,0].cpu().numpy())\n",
    "    display_multiplanar_center(target_tensor[0,0].cpu().numpy())"
   ]
  },
  {
   "cell_type": "code",
   "execution_count": null,
   "metadata": {},
   "outputs": [],
   "source": [
    "display_multiplanar_center(image_tensor[0,0].cpu().numpy())\n",
    "display_multiplanar_center(target_tensor[0,0].cpu().numpy())"
   ]
  },
  {
   "cell_type": "code",
   "execution_count": null,
   "metadata": {},
   "outputs": [],
   "source": []
  },
  {
   "cell_type": "code",
   "execution_count": null,
   "metadata": {},
   "outputs": [],
   "source": [
    "image = sitk.ReadImage('/media/hdd/viscent/SR-UNet/inference/Inference_FLYWHEEL_BROWN/input_reg/003.nii.gz')\n",
    "image_array = sitk.GetArrayFromImage(image)\n",
    "display_multiplanar_center(image_array)"
   ]
  },
  {
   "cell_type": "code",
   "execution_count": null,
   "metadata": {},
   "outputs": [],
   "source": [
    "subject = tio.Subject(\n",
    "    t2=tio.ScalarImage('/media/hdd/viscent/SR-UNet/dev/FLYWHEEL_BROWN/BROWN/SUBJECTS/BAMBAM26J/SESSIONS/2022-02-18 14_53_31/ACQUISITIONS/2 - T2 (AXI) - FAST (DL)-NOT FOR DIAGNOSTIC USE/FILES/2_T2_AXI_FAST_DL_NOT_FOR_DIAGNOSTIC_USE.nii.gz'),)\n",
    "    \n",
    "transform_brown_1 = tio.Compose([\n",
    "    tio.transforms.RescaleIntensity(0., 1.),\n",
    "    tio.transforms.ToCanonical(),\n",
    "    tio.transforms.Resample((1.,1.,1.)),\n",
    "])\n",
    "subject = transform_brown_1(subject)\n",
    "edge_max = max(subject.t2.data.shape)\n",
    "padding = ((edge_max - subject.t2.data.shape[1]) // 2, \n",
    "            (edge_max - subject.t2.data.shape[2]) // 2,\n",
    "                (edge_max - subject.t2.data.shape[3]) // 2)\n",
    "transform_brown_2 = tio.Compose([\n",
    "    tio.Pad(padding),\n",
    "    tio.transforms.Resize((160,160,160)),\n",
    "])\n",
    "subject = transform_brown_2(subject)"
   ]
  },
  {
   "cell_type": "code",
   "execution_count": null,
   "metadata": {},
   "outputs": [],
   "source": [
    "display_multiplanar_center(subject.t2.data[0])"
   ]
  },
  {
   "cell_type": "code",
   "execution_count": null,
   "metadata": {},
   "outputs": [],
   "source": [
    "image = sitk.GetImageFromArray(image_tensor[0, 0].detach().cpu().numpy()*4096)\n",
    "sitk.WriteImage(image, 'Input_HCP.nii.gz')"
   ]
  },
  {
   "cell_type": "code",
   "execution_count": null,
   "metadata": {},
   "outputs": [],
   "source": [
    "image = sitk.GetImageFromArray(target_tensor[0, 0].detach().cpu().numpy()*4096)\n",
    "sitk.WriteImage(image, 'Template_HCP.nii.gz')"
   ]
  },
  {
   "cell_type": "code",
   "execution_count": null,
   "metadata": {},
   "outputs": [],
   "source": [
    "image_tensor, target_tensor = load_image(dataset='dhcp',modality='t2')"
   ]
  },
  {
   "cell_type": "code",
   "execution_count": null,
   "metadata": {},
   "outputs": [],
   "source": [
    "image = sitk.GetImageFromArray(target_tensor[0, 0].detach().cpu().numpy()*4096)\n",
    "sitk.WriteImage(image, 'Template_dHCP.nii.gz')"
   ]
  }
 ],
 "metadata": {
  "kernelspec": {
   "display_name": "Python 3.10.4 ('bunet')",
   "language": "python",
   "name": "python3"
  },
  "language_info": {
   "codemirror_mode": {
    "name": "ipython",
    "version": 3
   },
   "file_extension": ".py",
   "mimetype": "text/x-python",
   "name": "python",
   "nbconvert_exporter": "python",
   "pygments_lexer": "ipython3",
   "version": "3.10.4"
  },
  "orig_nbformat": 4,
  "vscode": {
   "interpreter": {
    "hash": "5023b5ad8fb50cea70bd0bb92039e38e5f5468d4f2da817e095a49bc032fdc4b"
   }
  }
 },
 "nbformat": 4,
 "nbformat_minor": 2
}
