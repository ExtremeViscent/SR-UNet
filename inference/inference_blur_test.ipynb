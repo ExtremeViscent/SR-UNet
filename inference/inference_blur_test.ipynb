{
 "cells": [
  {
   "cell_type": "markdown",
   "metadata": {},
   "source": [
    "# Making inference with pretrained UNet and B-UNet models"
   ]
  },
  {
   "cell_type": "markdown",
   "metadata": {},
   "source": [
    "Define functions and set up environment"
   ]
  },
  {
   "cell_type": "code",
   "execution_count": 11,
   "metadata": {},
   "outputs": [],
   "source": [
    "import torch\n",
    "import sys\n",
    "sys.path.append(\"/media/hdd/viscent/SR-UNet\")\n",
    "from models.unet3d.model import BUNet3D,UNet3D\n",
    "\n",
    "import os \n",
    "import numpy as np\n",
    "import SimpleITK as sitk\n",
    "import ants\n",
    "%matplotlib inline\n",
    "import matplotlib.pyplot as plt\n",
    "import torch.nn as nn\n",
    "from mpl_toolkits.axes_grid1 import make_axes_locatable\n",
    "from torchviz import make_dot\n",
    "from colossalai.utils import load_checkpoint\n",
    "from colossalai.initialize import launch,initialize\n",
    "import colossalai\n",
    "from colossalai.trainer import Trainer, hooks\n",
    "import h5py as h5\n",
    "from dataloaders import get_synth_dhcp_dataloader, get_synth_hcp_dataloader\n",
    "import torchio as tio\n",
    "import pandas as pd\n",
    "\n",
    "from ipywidgets import interact, fixed\n",
    "from IPython.display import clear_output"
   ]
  },
  {
   "cell_type": "code",
   "execution_count": 19,
   "metadata": {},
   "outputs": [],
   "source": [
    "# Callback invoked by the IPython interact method for scrolling and modifying the alpha blending\n",
    "# of an image stack of two images that occupy the same physical space.\n",
    "def display_image(image_z, image):\n",
    "    img = image[:, :, image_z]\n",
    "    plt.imshow(sitk.GetArrayViewFromImage(img), cmap=plt.cm.Greys_r)\n",
    "    plt.axis(\"off\")\n",
    "    plt.show()\n",
    "\n",
    "def load_model(model_path:str):\n",
    "    model = torch.load(model_path)\n",
    "    model.train()\n",
    "    return model\n",
    "\n",
    "def get_dataloader(dataset = 'dhcp', batch_size = 1, data_dir = '/home/viscent/hdd/dhcp/dhcp_lores/'):\n",
    "    if dataset == 'dhcp':\n",
    "        dataloaders, val_loader = get_synth_dhcp_dataloader(data_dir=data_dir,\n",
    "                                                            batch_size=batch_size,\n",
    "                                                            num_samples=None,\n",
    "                                                            input_modalities=[\"t1\"],\n",
    "                                                            output_modalities=[\"t1\"],\n",
    "                                                            output_dir=data_dir,\n",
    "                                                            n_splits=5,\n",
    "                                                            augmentation=False,\n",
    "                                                            down_factor=5,)\n",
    "    elif dataset == 'hcp':\n",
    "        dataloaders, val_loader = get_synth_hcp_dataloader(data_dir=data_dir,\n",
    "                                                            batch_size=batch_size,\n",
    "                                                            num_samples=None,\n",
    "                                                            input_modalities=[\"t1\"],\n",
    "                                                            output_modalities=[\"t1\"],\n",
    "                                                            output_dir=data_dir,\n",
    "                                                            n_splits=5,\n",
    "                                                            augmentation=False,\n",
    "                                                            down_factor=5,)\n",
    "    return val_loader\n",
    "\n",
    "def load_image(mode :str = 'h5', \n",
    "               paths = ['/home/viscent/hdd/dhcp/dhcp_lores/preprocessed_h5/sub-CC00582XX14.h5'],\n",
    "               dataset = 'dhcp',\n",
    "               data_dir = '/home/viscent/hdd/dhcp/dhcp_lores/',):\n",
    "    if mode == 'h5':\n",
    "        with h5.File(paths[0],'r') as f:\n",
    "            image = f['image_t1'][...].astype(np.float32)\n",
    "            target = f['gt_t1'][...].astype(np.float32)\n",
    "        image_tensor = torch.from_numpy(image).unsqueeze(0).unsqueeze(0).cuda()\n",
    "        target_tensor = torch.from_numpy(target).unsqueeze(0).unsqueeze(0).cuda()\n",
    "        return image_tensor,target_tensor\n",
    "    elif mode == 'sitk':\n",
    "        image = sitk.ReadImage(paths[0])\n",
    "        target = sitk.ReadImage(paths[1])\n",
    "        image = sitk.GetArrayFromImage(image)\n",
    "        target = sitk.GetArrayFromImage(target)\n",
    "        image_tensor = torch.from_numpy(image).unsqueeze(0).unsqueeze(0).cuda()\n",
    "        target_tensor = torch.from_numpy(target).unsqueeze(0).unsqueeze(0).cuda()\n",
    "        return image_tensor,target_tensor\n",
    "    elif mode == 'npy':\n",
    "        image = np.load(paths[0])\n",
    "        target = np.load(paths[1])\n",
    "        image_tensor = torch.from_numpy(image).unsqueeze(0).cuda()\n",
    "        target_tensor = torch.from_numpy(target).unsqueeze(0).cuda()\n",
    "        return image_tensor,target_tensor\n",
    "    elif mode == 'dataloader':\n",
    "        if dataset == 'dhcp':\n",
    "            dataloaders, val_loader = get_synth_dhcp_dataloader(data_dir=data_dir,\n",
    "                                                                batch_size=1,\n",
    "                                                                num_samples=50,\n",
    "                                                                input_modalities=[\"t1\"],\n",
    "                                                                output_modalities=[\"t1\"],\n",
    "                                                                output_dir=data_dir,\n",
    "                                                                n_splits=5,\n",
    "                                                                augmentation=False,\n",
    "                                                                down_factor=5,)\n",
    "        elif dataset == 'hcp':\n",
    "            dataloaders, val_loader = get_synth_hcp_dataloader(data_dir=data_dir,\n",
    "                                                                batch_size=1,\n",
    "                                                                num_samples=50,\n",
    "                                                                input_modalities=[\"t1\"],\n",
    "                                                                output_modalities=[\"t1\"],\n",
    "                                                                output_dir=data_dir,\n",
    "                                                                n_splits=5,\n",
    "                                                                augmentation=False,\n",
    "                                                                down_factor=5,)\n",
    "        image_tensor, target_tensor = next(iter(val_loader))\n",
    "        image_tensor = image_tensor.cuda()\n",
    "        target_tensor = target_tensor.cuda()\n",
    "        return image_tensor,target_tensor\n",
    "\n",
    "def plot_latent(model):\n",
    "    encoder_weights = next(model.encoders[-1].parameters())\n",
    "    encoder_weights = encoder_weights.cpu().detach().numpy()\n",
    "    encoder_weights= np.expand_dims(encoder_weights,axis=1)\n",
    "    encoder_weights = np.repeat(encoder_weights, 128, axis=1)\n",
    "    if hasattr(model, 'enc_mu'):\n",
    "        fig,(ax1,ax2) = plt.subplots(1,2)\n",
    "        im1 = ax1.imshow(encoder_weights)\n",
    "        ax1.set_title(\"encoder weights\")\n",
    "        divider = make_axes_locatable(ax1)\n",
    "        cax = divider.append_axes(\"right\", size=\"5%\", pad=0.05)\n",
    "        fig.colorbar(im1, cax=cax, orientation=\"vertical\")\n",
    "\n",
    "        latent_weights = next(model.mu.parameters())\n",
    "        latent_weights = latent_weights.cpu().detach().numpy()\n",
    "        latent_weights = np.repeat(latent_weights, 128, axis=1)\n",
    "\n",
    "        im2 = ax2.imshow(encoder_weights)\n",
    "        ax2.set_title(\"latent weights\")\n",
    "        divider = make_axes_locatable(ax2)\n",
    "        cax = divider.append_axes(\"right\", size=\"5%\", pad=0.05)\n",
    "        fig.colorbar(im2, cax=cax, orientation=\"vertical\")\n",
    "        fig.show()\n",
    "    else:\n",
    "        fig = plt.imshow(encoder_weights)\n",
    "        plt.title(\"encoder weights\")\n",
    "        plt.colorbar()\n",
    "        plt.show()\n",
    "    # plt.savefig(OUTPUT_PREFIX+\"_encoder_weights.png\")\n",
    "\n",
    "def infer(model,image_tensor):\n",
    "    output_tensor = model(image_tensor)\n",
    "    return output_tensor\n",
    "\n",
    "def get_metrics(output_tensor,target_tensor, model, mu_q = None, logvar_q = None):\n",
    "    im = target_tensor\n",
    "    im_hat = output_tensor\n",
    "    mse = torch.nn.MSELoss()(im, im_hat)\n",
    "    mse.backward()\n",
    "    print('mse:', mse.cpu().detach().numpy())\n",
    "    if hasattr(model, 'enc_mu'):\n",
    "        mu_p, logvar_p = model.enc_mu,model.enc_logvar\n",
    "        # kl = (0.5 * ((torch.ones_like(logvar_p)-torch.ones_like(logvar_p)) + (mu_p-mu_q)**2 / torch.ones_like(logvar_p).exp() - 1 + (torch.ones_like(logvar_p)).exp() / (torch.ones_like(logvar_p)).exp() )).sum()\n",
    "        # kl = (0.5 * ((logvar_q-logvar_p) + (mu_p-mu_q)**2 / logvar_q.exp() - 1 + logvar_p.exp() / logvar_q.exp())).mean()\n",
    "        kl = 0.5 * (logvar_p.exp() + mu_p**2 - 1 - logvar_p).sum()\n",
    "        # kl = 0.5 * ((logvar_q-logvar_p) - 3 + (mu_p - mu_q) / logvar_q.exp() * (mu_p-mu_q) + torch.trace)\n",
    "        # kl = torch.sum(kl)\n",
    "        FE_simple = mse + 0.00025 * kl\n",
    "        print('kl:', kl.cpu().detach().numpy())\n",
    "        print('Free energy:', FE_simple.cpu().detach().numpy())\n",
    "\n",
    "def plot_output(image_tensor,output_tensor,target_tensor):\n",
    "    image_tensor = image_tensor.cpu().squeeze().squeeze().detach().numpy().astype(np.float32)\n",
    "    output_tensor = output_tensor.cpu().squeeze().squeeze().detach().numpy().astype(np.float32)\n",
    "    target_tensor = target_tensor.cpu().squeeze().squeeze().detach().numpy().astype(np.float32)\n",
    "    fig,(ax1,ax2,ax3) = plt.subplots(1,3)\n",
    "    im1 = ax1.imshow(image_tensor[image_tensor.shape[0]//2,:,:],cmap='gray')\n",
    "    ax1.set_title(\"image\")\n",
    "\n",
    "\n",
    "    im2 = ax2.imshow(output_tensor[output_tensor.shape[0]//2,:,:],cmap='gray')\n",
    "    ax2.set_title(\"output\")\n",
    "    \n",
    "    \n",
    "    im3 = ax3.imshow(target_tensor[target_tensor.shape[0]//2,:,:],cmap='gray')\n",
    "    ax3.set_title(\"target\")\n",
    "    fig.show()\n",
    "# Callback invoked when the sitkMultiResolutionIterationEvent happens, update the index into the\n",
    "# metric_values list.\n",
    "def update_multires_iterations():\n",
    "    global metric_values, multires_iterations\n",
    "    multires_iterations.append(len(metric_values))\n",
    "    \n",
    "def registration_sitk(fixed_image, moving_image):\n",
    "    initial_transform = sitk.CenteredTransformInitializer(\n",
    "        fixed_image,\n",
    "        moving_image,\n",
    "        sitk.Euler3DTransform(),\n",
    "        sitk.CenteredTransformInitializerFilter.GEOMETRY,\n",
    "    )\n",
    "\n",
    "    moving_resampled = sitk.Resample(\n",
    "        moving_image,\n",
    "        fixed_image,\n",
    "        initial_transform,\n",
    "        sitk.sitkLinear,\n",
    "        0.0,\n",
    "        moving_image.GetPixelID(),\n",
    "    )\n",
    "    registration_method = sitk.ImageRegistrationMethod()\n",
    "\n",
    "    # Similarity metric settings.\n",
    "    registration_method.SetMetricAsMattesMutualInformation(numberOfHistogramBins=50)\n",
    "    registration_method.SetMetricSamplingStrategy(registration_method.RANDOM)\n",
    "    registration_method.SetMetricSamplingPercentage(0.01)\n",
    "\n",
    "    registration_method.SetInterpolator(sitk.sitkLinear)\n",
    "\n",
    "    # Optimizer settings.\n",
    "    registration_method.SetOptimizerAsGradientDescent(\n",
    "        learningRate=1.0,\n",
    "        numberOfIterations=100,\n",
    "        convergenceMinimumValue=1e-6,\n",
    "        convergenceWindowSize=10,\n",
    "    )\n",
    "    registration_method.SetOptimizerScalesFromPhysicalShift()\n",
    "\n",
    "    # Setup for the multi-resolution framework.\n",
    "    registration_method.SetShrinkFactorsPerLevel(shrinkFactors=[4, 2, 1])\n",
    "    registration_method.SetSmoothingSigmasPerLevel(smoothingSigmas=[2, 1, 0])\n",
    "    registration_method.SmoothingSigmasAreSpecifiedInPhysicalUnitsOn()\n",
    "\n",
    "    # Don't optimize in-place, we would possibly like to run this cell multiple times.\n",
    "    registration_method.SetInitialTransform(initial_transform, inPlace=False)\n",
    "\n",
    "\n",
    "    final_transform = registration_method.Execute(\n",
    "        sitk.Cast(fixed_image, sitk.sitkFloat32), sitk.Cast(moving_image, sitk.sitkFloat32)\n",
    "    )\n",
    "    moving_resampled = sitk.Resample(\n",
    "        moving_image,\n",
    "        fixed_image,\n",
    "        final_transform,\n",
    "        sitk.sitkLinear,\n",
    "        0.0,\n",
    "        moving_image.GetPixelID(),\n",
    "    )\n",
    "    return moving_resampled\n",
    "\n",
    "def resample(image):\n",
    "    target_shape = (108, 145, 145)\n",
    "    spacing = [1.0,1.0,1.0]\n",
    "    spacing = np.array(spacing)\n",
    "    resample_transform = tio.Resample(target=spacing)\n",
    "    resize_transform = tio.Resize(target_shape=target_shape)\n",
    "    transform  = tio.Compose([resample_transform,resize_transform])\n",
    "    return transform(image)\n",
    "\n",
    "def _downSample(image, factor_ds, factor_blur):\n",
    "    spacing = [1.0,1.0,1.0]\n",
    "    spacing = np.array(spacing)\n",
    "    spacing *= factor_ds\n",
    "    target_shape = (108, 145, 145)\n",
    "    factor = spacing[2] / spacing[0]\n",
    "    resize_transform = tio.Resize(target_shape=target_shape)\n",
    "    resample_transform = tio.Resample(target=spacing)\n",
    "    blur_transform = tio.RandomBlur(factor_blur)\n",
    "    transform  = tio.Compose([resample_transform,resize_transform,blur_transform])\n",
    "    return transform(image)\n",
    "\n",
    "def downSample(image):\n",
    "    return downSample(image, factor_ds=5, factor_blur=3)\n",
    "\n",
    "\n",
    "def registration_ants(fixed_image, moving_image):\n",
    "    fixed_array = sitk.GetArrayFromImage(fixed_image)\n",
    "    moving_array = sitk.GetArrayFromImage(moving_image)\n",
    "    fixed_ants = ants.from_numpy(fixed_array)\n",
    "    moving_ants = ants.from_numpy(moving_array)\n",
    "    ret = ants.registration(fixed_ants, moving_ants,verbose=True)\n",
    "    image = ret['warpedmovout'].numpy()\n",
    "    image = sitk.GetImageFromArray(image)\n",
    "    image.CopyInformation(fixed_image)\n",
    "    return image"
   ]
  },
  {
   "cell_type": "code",
   "execution_count": 3,
   "metadata": {},
   "outputs": [],
   "source": [
    "model_vae_dhcp = load_model('/media/hdd/viscent/create-models/20220609/vae_dhcp/499.pth')\n",
    "model_vae_hcp = load_model('/media/hdd/viscent/create-models/20220609/vae_hcp/499.pth')\n",
    "model_unet_dhcp = load_model('/media/hdd/viscent/create-models/20220607/unet_dhcp/299.pth')\n",
    "model_unet_hcp = load_model('/media/hdd/viscent/create-models/20220607/unet_hcp/299.pth')\n",
    "\n",
    "mu_vae_dhcp = model_vae_dhcp.enc_mu\n",
    "logvar_vae_dhcp = model_vae_dhcp.enc_logvar\n",
    "mu_vae_hcp = model_vae_hcp.enc_mu\n",
    "logvar_vae_hcp = model_vae_hcp.enc_logvar"
   ]
  },
  {
   "cell_type": "code",
   "execution_count": 6,
   "metadata": {},
   "outputs": [
    {
     "data": {
      "text/html": [
       "<pre style=\"white-space:pre;overflow-x:auto;line-height:normal;font-family:Menlo,'DejaVu Sans Mono',consolas,'Courier New',monospace\"><span style=\"color: #7fbfbf; text-decoration-color: #7fbfbf\">[07/04/22 16:57:58] </span><span style=\"color: #000080; text-decoration-color: #000080\">INFO    </span> colossalai - root - INFO: Creating dataset with <span style=\"color: #008080; text-decoration-color: #008080; font-weight: bold\">510</span> examples    \n",
       "</pre>\n"
      ],
      "text/plain": [
       "\u001b[2;36m[07/04/22 16:57:58]\u001b[0m\u001b[2;36m \u001b[0m\u001b[34mINFO    \u001b[0m colossalai - root - INFO: Creating dataset with \u001b[1;36m510\u001b[0m examples    \n"
      ]
     },
     "metadata": {},
     "output_type": "display_data"
    },
    {
     "data": {
      "text/html": [
       "<pre style=\"white-space:pre;overflow-x:auto;line-height:normal;font-family:Menlo,'DejaVu Sans Mono',consolas,'Courier New',monospace\"><span style=\"color: #7fbfbf; text-decoration-color: #7fbfbf\">                    </span><span style=\"color: #000080; text-decoration-color: #000080\">INFO    </span> colossalai - root - INFO: length of list_images_t1: <span style=\"color: #008080; text-decoration-color: #008080; font-weight: bold\">510</span>         \n",
       "</pre>\n"
      ],
      "text/plain": [
       "\u001b[2;36m                   \u001b[0m\u001b[2;36m \u001b[0m\u001b[34mINFO    \u001b[0m colossalai - root - INFO: length of list_images_t1: \u001b[1;36m510\u001b[0m         \n"
      ]
     },
     "metadata": {},
     "output_type": "display_data"
    },
    {
     "data": {
      "application/vnd.jupyter.widget-view+json": {
       "model_id": "f69c84a0b6fc49c791628c8d6531e3f0",
       "version_major": 2,
       "version_minor": 0
      },
      "text/plain": [
       "  0%|          | 0/510 [00:00<?, ?it/s]"
      ]
     },
     "metadata": {},
     "output_type": "display_data"
    },
    {
     "data": {
      "text/html": [
       "<pre style=\"white-space:pre;overflow-x:auto;line-height:normal;font-family:Menlo,'DejaVu Sans Mono',consolas,'Courier New',monospace\"><span style=\"color: #7fbfbf; text-decoration-color: #7fbfbf\">[07/04/22 16:59:22] </span><span style=\"color: #000080; text-decoration-color: #000080\">INFO    </span> colossalai - root - INFO: Creating dataset with <span style=\"color: #008080; text-decoration-color: #008080; font-weight: bold\">127</span> examples    \n",
       "</pre>\n"
      ],
      "text/plain": [
       "\u001b[2;36m[07/04/22 16:59:22]\u001b[0m\u001b[2;36m \u001b[0m\u001b[34mINFO    \u001b[0m colossalai - root - INFO: Creating dataset with \u001b[1;36m127\u001b[0m examples    \n"
      ]
     },
     "metadata": {},
     "output_type": "display_data"
    },
    {
     "data": {
      "text/html": [
       "<pre style=\"white-space:pre;overflow-x:auto;line-height:normal;font-family:Menlo,'DejaVu Sans Mono',consolas,'Courier New',monospace\"><span style=\"color: #7fbfbf; text-decoration-color: #7fbfbf\">                    </span><span style=\"color: #000080; text-decoration-color: #000080\">INFO    </span> colossalai - root - INFO: length of list_images_t1: <span style=\"color: #008080; text-decoration-color: #008080; font-weight: bold\">128</span>         \n",
       "</pre>\n"
      ],
      "text/plain": [
       "\u001b[2;36m                   \u001b[0m\u001b[2;36m \u001b[0m\u001b[34mINFO    \u001b[0m colossalai - root - INFO: length of list_images_t1: \u001b[1;36m128\u001b[0m         \n"
      ]
     },
     "metadata": {},
     "output_type": "display_data"
    },
    {
     "data": {
      "application/vnd.jupyter.widget-view+json": {
       "model_id": "921c95e4b82540eea91f565c521ac78c",
       "version_major": 2,
       "version_minor": 0
      },
      "text/plain": [
       "  0%|          | 0/127 [00:00<?, ?it/s]"
      ]
     },
     "metadata": {},
     "output_type": "display_data"
    }
   ],
   "source": [
    "dataloader = get_dataloader()"
   ]
  },
  {
   "cell_type": "code",
   "execution_count": 63,
   "metadata": {},
   "outputs": [],
   "source": [
    "mse_df = pd.DataFrame(columns=['mse','downsample_factor','blur_factor'])\n",
    "ds_array = np.arange(1,10)\n",
    "blur_array = np.arange(1,10)"
   ]
  },
  {
   "cell_type": "code",
   "execution_count": null,
   "metadata": {},
   "outputs": [],
   "source": [
    "\n",
    "from tqdm import trange,tqdm\n",
    "\n",
    "\n",
    "for i in trange(20):\n",
    "    image_tensor, target_tensor = next(iter(dataloader))\n",
    "    image = sitk.GetImageFromArray(image_tensor[0,0].numpy())\n",
    "    for ds in ds_array:\n",
    "        for blur in blur_array:\n",
    "            print('ds:',ds,'blur:',blur)\n",
    "            image_tmp = _downSample(image,ds,blur)\n",
    "            image_tmp = sitk.GetArrayFromImage(image_tmp)\n",
    "            image_tensor = torch.from_numpy(image_tmp).unsqueeze(0).unsqueeze(0).float().cuda()\n",
    "            output = model_vae_dhcp(image_tensor)\n",
    "            mse = torch.nn.MSELoss()(target_tensor.cuda(), output)\n",
    "            metrics = dict(mse=mse.item(),downsample_factor=ds,blur_factor=blur)\n",
    "            mse_df.loc[len(mse_df)] = metrics\n",
    "            \n",
    "            "
   ]
  },
  {
   "cell_type": "code",
   "execution_count": 66,
   "metadata": {},
   "outputs": [
    {
     "data": {
      "text/html": [
       "<div>\n",
       "<style scoped>\n",
       "    .dataframe tbody tr th:only-of-type {\n",
       "        vertical-align: middle;\n",
       "    }\n",
       "\n",
       "    .dataframe tbody tr th {\n",
       "        vertical-align: top;\n",
       "    }\n",
       "\n",
       "    .dataframe thead th {\n",
       "        text-align: right;\n",
       "    }\n",
       "</style>\n",
       "<table border=\"1\" class=\"dataframe\">\n",
       "  <thead>\n",
       "    <tr style=\"text-align: right;\">\n",
       "      <th></th>\n",
       "      <th>mse</th>\n",
       "      <th>downsample_factor</th>\n",
       "      <th>blur_factor</th>\n",
       "    </tr>\n",
       "  </thead>\n",
       "  <tbody>\n",
       "    <tr>\n",
       "      <th>0</th>\n",
       "      <td>0.074870</td>\n",
       "      <td>1</td>\n",
       "      <td>1</td>\n",
       "    </tr>\n",
       "    <tr>\n",
       "      <th>1</th>\n",
       "      <td>0.074747</td>\n",
       "      <td>1</td>\n",
       "      <td>2</td>\n",
       "    </tr>\n",
       "    <tr>\n",
       "      <th>2</th>\n",
       "      <td>0.075394</td>\n",
       "      <td>1</td>\n",
       "      <td>3</td>\n",
       "    </tr>\n",
       "    <tr>\n",
       "      <th>3</th>\n",
       "      <td>0.075859</td>\n",
       "      <td>1</td>\n",
       "      <td>4</td>\n",
       "    </tr>\n",
       "    <tr>\n",
       "      <th>4</th>\n",
       "      <td>0.076887</td>\n",
       "      <td>1</td>\n",
       "      <td>5</td>\n",
       "    </tr>\n",
       "    <tr>\n",
       "      <th>...</th>\n",
       "      <td>...</td>\n",
       "      <td>...</td>\n",
       "      <td>...</td>\n",
       "    </tr>\n",
       "    <tr>\n",
       "      <th>1615</th>\n",
       "      <td>0.245100</td>\n",
       "      <td>9</td>\n",
       "      <td>5</td>\n",
       "    </tr>\n",
       "    <tr>\n",
       "      <th>1616</th>\n",
       "      <td>0.239166</td>\n",
       "      <td>9</td>\n",
       "      <td>6</td>\n",
       "    </tr>\n",
       "    <tr>\n",
       "      <th>1617</th>\n",
       "      <td>0.253284</td>\n",
       "      <td>9</td>\n",
       "      <td>7</td>\n",
       "    </tr>\n",
       "    <tr>\n",
       "      <th>1618</th>\n",
       "      <td>0.241018</td>\n",
       "      <td>9</td>\n",
       "      <td>8</td>\n",
       "    </tr>\n",
       "    <tr>\n",
       "      <th>1619</th>\n",
       "      <td>0.270021</td>\n",
       "      <td>9</td>\n",
       "      <td>9</td>\n",
       "    </tr>\n",
       "  </tbody>\n",
       "</table>\n",
       "<p>1620 rows × 3 columns</p>\n",
       "</div>"
      ],
      "text/plain": [
       "           mse  downsample_factor  blur_factor\n",
       "0     0.074870                  1            1\n",
       "1     0.074747                  1            2\n",
       "2     0.075394                  1            3\n",
       "3     0.075859                  1            4\n",
       "4     0.076887                  1            5\n",
       "...        ...                ...          ...\n",
       "1615  0.245100                  9            5\n",
       "1616  0.239166                  9            6\n",
       "1617  0.253284                  9            7\n",
       "1618  0.241018                  9            8\n",
       "1619  0.270021                  9            9\n",
       "\n",
       "[1620 rows x 3 columns]"
      ]
     },
     "execution_count": 66,
     "metadata": {},
     "output_type": "execute_result"
    }
   ],
   "source": [
    "mse_df"
   ]
  },
  {
   "cell_type": "code",
   "execution_count": 70,
   "metadata": {},
   "outputs": [
    {
     "data": {
      "text/plain": [
       "array([[<AxesSubplot:title={'center':'1'}>,\n",
       "        <AxesSubplot:title={'center':'2'}>,\n",
       "        <AxesSubplot:title={'center':'3'}>],\n",
       "       [<AxesSubplot:title={'center':'4'}>,\n",
       "        <AxesSubplot:title={'center':'5'}>,\n",
       "        <AxesSubplot:title={'center':'6'}>],\n",
       "       [<AxesSubplot:title={'center':'7'}>,\n",
       "        <AxesSubplot:title={'center':'8'}>,\n",
       "        <AxesSubplot:title={'center':'9'}>]], dtype=object)"
      ]
     },
     "execution_count": 70,
     "metadata": {},
     "output_type": "execute_result"
    },
    {
     "data": {
      "image/png": "[encoded data removed]",
      "text/plain": [
       "<Figure size 432x288 with 9 Axes>"
      ]
     },
     "metadata": {
      "needs_background": "light"
     },
     "output_type": "display_data"
    }
   ],
   "source": [
    "mse_df.hist(column='mse',by='downsample_factor')"
   ]
  },
  {
   "cell_type": "code",
   "execution_count": 111,
   "metadata": {},
   "outputs": [],
   "source": [
    "hist_mat = np.zeros((9,9))\n",
    "for item in mse_df.itertuples():\n",
    "    mse = min(item.mse,0.3)\n",
    "    hist_mat[item.downsample_factor-1,item.blur_factor-1] += mse\n",
    "    hist_mat[item.downsample_factor-1,item.blur_factor-1] /= 2"
   ]
  },
  {
   "cell_type": "code",
   "execution_count": 115,
   "metadata": {},
   "outputs": [
    {
     "data": {
      "text/plain": [
       "<matplotlib.colorbar.Colorbar at 0x7f1cd9935660>"
      ]
     },
     "execution_count": 115,
     "metadata": {},
     "output_type": "execute_result"
    },
    {
     "data": {
      "image/png": "[encoded data removed]",
      "text/plain": [
       "<Figure size 432x288 with 2 Axes>"
      ]
     },
     "metadata": {
      "needs_background": "light"
     },
     "output_type": "display_data"
    }
   ],
   "source": [
    "plt.imshow(hist_mat)\n",
    "plt.xlabel('blur_factor')\n",
    "plt.xticks(np.arange(9),blur_array)\n",
    "plt.ylabel('downsample_factor')\n",
    "plt.yticks(np.arange(9),ds_array)\n",
    "plt.colorbar()"
   ]
  }
 ],
 "metadata": {
  "kernelspec": {
   "display_name": "Python 3.10.4 ('bunet')",
   "language": "python",
   "name": "python3"
  },
  "language_info": {
   "codemirror_mode": {
    "name": "ipython",
    "version": 3
   },
   "file_extension": ".py",
   "mimetype": "text/x-python",
   "name": "python",
   "nbconvert_exporter": "python",
   "pygments_lexer": "ipython3",
   "version": "3.10.4"
  },
  "orig_nbformat": 4,
  "vscode": {
   "interpreter": {
    "hash": "5023b5ad8fb50cea70bd0bb92039e38e5f5468d4f2da817e095a49bc032fdc4b"
   }
  }
 },
 "nbformat": 4,
 "nbformat_minor": 2
}
