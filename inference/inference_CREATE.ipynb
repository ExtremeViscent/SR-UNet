{
 "cells": [
  {
   "cell_type": "code",
   "execution_count": 1,
   "metadata": {},
   "outputs": [
    {
     "name": "stderr",
     "output_type": "stream",
     "text": [
      "/users/k21113539/anaconda3/envs/cai/lib/python3.9/site-packages/torch/autocast_mode.py:162: UserWarning: User provided device_type of 'cuda', but CUDA is not available. Disabling\n",
      "  warnings.warn('User provided device_type of \\'cuda\\', but CUDA is not available. Disabling')\n"
     ]
    }
   ],
   "source": [
    "import torch\n",
    "import sys\n",
    "sys.path.append(\"/scratch/users/k21113539/SR-UNet\")\n",
    "from models.unet3d.model import BUNet3D,UNet3D\n",
    "\n",
    "import os \n",
    "import numpy as np\n",
    "import SimpleITK as sitk\n",
    "import matplotlib.pyplot as plt\n",
    "import torch.nn as nn\n",
    "from mpl_toolkits.axes_grid1 import make_axes_locatable\n",
    "from torchviz import make_dot\n",
    "from colossalai.utils import load_checkpoint\n",
    "from colossalai.initialize import launch,initialize\n",
    "import colossalai\n",
    "from colossalai.trainer import Trainer, hooks"
   ]
  },
  {
   "cell_type": "code",
   "execution_count": null,
   "metadata": {},
   "outputs": [],
   "source": [
    "# launch('/home/viscent/hdd/viscent/SR-UNet/configs/config_vae_dhcp_dbg.py',0,1,'localhost',11451)"
   ]
  },
  {
   "cell_type": "code",
   "execution_count": 42,
   "metadata": {},
   "outputs": [],
   "source": [
    "UNET = True\n",
    "CKPT_DIR = \"/scratch/prj/bayunet/experiments/output_unet_hcp_t1_800/0/checkpoints/33.pth\"\n",
    "# CKPT_DIR = \"/home/viscent/hdd/viscent/SR-UNet/experiments/output_vae_dhcp_dbg/checkpoints/fold_0/10.pth\"\n",
    "OUTPUT_ROOT = \"/media/hdd/viscent/SR-UNet/inference\"\n",
    "OUTPUT_PREFIX = input(\"UNet File prefix: \")\n",
    "OUTPUT_PREFIX = os.path.join(OUTPUT_ROOT,OUTPUT_PREFIX)\n",
    "\n",
    "\n",
    "if not UNET:\n",
    "    model = BUNet3D(in_channels=1,\n",
    "            out_channels=1,\n",
    "            f_maps=[16, 32, 64, 128, 256],\n",
    "            layer_order='gcr',\n",
    "            num_groups=8,\n",
    "            is_segmentation=False,\n",
    "            latent_size=256,\n",
    "            alpha=0.00025,\n",
    "            )\n",
    "else:\n",
    "    model = UNet3D(in_channels=1,\n",
    "            out_channels=1,\n",
    "            f_maps=[16, 32, 64, 128, 256],\n",
    "            layer_order='gcr',\n",
    "            num_groups=8,\n",
    "            is_segmentation=False,\n",
    "    )\n",
    "\n",
    "############# Initalize #############\n",
    "# model.train()\n",
    "# for x in model.modules():\n",
    "#     if isinstance(x, nn.Conv3d):\n",
    "#         print(x)\n",
    "#         x.requires_grad_(False)\n",
    "#         x.weight.fill_(0)\n",
    "#####################################\n",
    "\n",
    "# ckpt = torch.load(CKPT_DIR,map_location=torch.device('cpu'))\n",
    "# # load_checkpoint(CKPT_DIR, model)\n",
    "# # with torch.cuda.amp.autocast(enabled=True):\n",
    "# #     if ckpt.get('model') is None:\n",
    "# #         state_dict = ckpt['state_dict']\n",
    "# #         _state_dict = {}\n",
    "# #         for key in state_dict.keys():\n",
    "# #             _state_dict[key.replace(\"model.\",\"\")] = state_dict[key]\n",
    "# #         model.load_state_dict(_state_dict)\n",
    "# #     else:\n",
    "# optim = torch.optim.Adam(\n",
    "#     model.parameters(),\n",
    "#     lr=0.001,\n",
    "#     betas=(0.9, 0.99)\n",
    "# )\n",
    "# model.load_state_dict(ckpt[\"state_dict\"],strict=False)\n",
    "model = torch.load(CKPT_DIR,map_location=torch.device('cpu'))\n",
    "model = model.eval()"
   ]
  },
  {
   "cell_type": "code",
   "execution_count": 3,
   "metadata": {},
   "outputs": [
    {
     "name": "stdout",
     "output_type": "stream",
     "text": [
      "encoders.0.basic_module.SingleConv1.groupnorm.weight\n",
      "True\n",
      "encoders.0.basic_module.SingleConv1.groupnorm.bias\n",
      "True\n",
      "encoders.0.basic_module.SingleConv1.conv.weight\n",
      "True\n",
      "encoders.0.basic_module.SingleConv2.groupnorm.weight\n",
      "True\n",
      "encoders.0.basic_module.SingleConv2.groupnorm.bias\n",
      "True\n",
      "encoders.0.basic_module.SingleConv2.conv.weight\n",
      "True\n",
      "encoders.1.basic_module.SingleConv1.groupnorm.weight\n",
      "True\n",
      "encoders.1.basic_module.SingleConv1.groupnorm.bias\n",
      "True\n",
      "encoders.1.basic_module.SingleConv1.conv.weight\n",
      "True\n",
      "encoders.1.basic_module.SingleConv2.groupnorm.weight\n",
      "True\n",
      "encoders.1.basic_module.SingleConv2.groupnorm.bias\n",
      "True\n",
      "encoders.1.basic_module.SingleConv2.conv.weight\n",
      "True\n",
      "encoders.2.basic_module.SingleConv1.groupnorm.weight\n",
      "True\n",
      "encoders.2.basic_module.SingleConv1.groupnorm.bias\n",
      "True\n",
      "encoders.2.basic_module.SingleConv1.conv.weight\n",
      "True\n",
      "encoders.2.basic_module.SingleConv2.groupnorm.weight\n",
      "True\n",
      "encoders.2.basic_module.SingleConv2.groupnorm.bias\n",
      "True\n",
      "encoders.2.basic_module.SingleConv2.conv.weight\n",
      "True\n",
      "encoders.3.basic_module.SingleConv1.groupnorm.weight\n",
      "True\n",
      "encoders.3.basic_module.SingleConv1.groupnorm.bias\n",
      "True\n",
      "encoders.3.basic_module.SingleConv1.conv.weight\n",
      "True\n",
      "encoders.3.basic_module.SingleConv2.groupnorm.weight\n",
      "True\n",
      "encoders.3.basic_module.SingleConv2.groupnorm.bias\n",
      "True\n",
      "encoders.3.basic_module.SingleConv2.conv.weight\n",
      "True\n",
      "encoders.4.basic_module.SingleConv1.groupnorm.weight\n",
      "True\n",
      "encoders.4.basic_module.SingleConv1.groupnorm.bias\n",
      "True\n",
      "encoders.4.basic_module.SingleConv1.conv.weight\n",
      "True\n",
      "encoders.4.basic_module.SingleConv2.groupnorm.weight\n",
      "True\n",
      "encoders.4.basic_module.SingleConv2.groupnorm.bias\n",
      "True\n",
      "encoders.4.basic_module.SingleConv2.conv.weight\n",
      "True\n",
      "decoders.0.basic_module.SingleConv1.groupnorm.weight\n",
      "True\n",
      "decoders.0.basic_module.SingleConv1.groupnorm.bias\n",
      "True\n",
      "decoders.0.basic_module.SingleConv1.conv.weight\n",
      "True\n",
      "decoders.0.basic_module.SingleConv2.groupnorm.weight\n",
      "True\n",
      "decoders.0.basic_module.SingleConv2.groupnorm.bias\n",
      "True\n",
      "decoders.0.basic_module.SingleConv2.conv.weight\n",
      "True\n",
      "decoders.1.basic_module.SingleConv1.groupnorm.weight\n",
      "True\n",
      "decoders.1.basic_module.SingleConv1.groupnorm.bias\n",
      "True\n",
      "decoders.1.basic_module.SingleConv1.conv.weight\n",
      "True\n",
      "decoders.1.basic_module.SingleConv2.groupnorm.weight\n",
      "True\n",
      "decoders.1.basic_module.SingleConv2.groupnorm.bias\n",
      "True\n",
      "decoders.1.basic_module.SingleConv2.conv.weight\n",
      "True\n",
      "decoders.2.basic_module.SingleConv1.groupnorm.weight\n",
      "True\n",
      "decoders.2.basic_module.SingleConv1.groupnorm.bias\n",
      "True\n",
      "decoders.2.basic_module.SingleConv1.conv.weight\n",
      "True\n",
      "decoders.2.basic_module.SingleConv2.groupnorm.weight\n",
      "True\n",
      "decoders.2.basic_module.SingleConv2.groupnorm.bias\n",
      "True\n",
      "decoders.2.basic_module.SingleConv2.conv.weight\n",
      "True\n",
      "decoders.3.basic_module.SingleConv1.groupnorm.weight\n",
      "True\n",
      "decoders.3.basic_module.SingleConv1.groupnorm.bias\n",
      "True\n",
      "decoders.3.basic_module.SingleConv1.conv.weight\n",
      "True\n",
      "decoders.3.basic_module.SingleConv2.groupnorm.weight\n",
      "True\n",
      "decoders.3.basic_module.SingleConv2.groupnorm.bias\n",
      "True\n",
      "decoders.3.basic_module.SingleConv2.conv.weight\n",
      "True\n",
      "final_conv.weight\n",
      "True\n",
      "final_conv.bias\n",
      "True\n",
      "mu.weight\n",
      "True\n",
      "mu.bias\n",
      "True\n",
      "logvar.weight\n",
      "True\n",
      "logvar.bias\n",
      "True\n",
      "latent_to_decode.weight\n",
      "True\n",
      "latent_to_decode.bias\n",
      "True\n",
      "Total number of layers:  62\n"
     ]
    }
   ],
   "source": [
    "n_layer = 0\n",
    "for layer in model.named_parameters():\n",
    "    ## check require grad\n",
    "    print(layer[0])\n",
    "    print(layer[1].requires_grad)\n",
    "    n_layer += 1\n",
    "print(\"Total number of layers: \",n_layer)"
   ]
  },
  {
   "cell_type": "code",
   "execution_count": 4,
   "metadata": {},
   "outputs": [
    {
     "ename": "NameError",
     "evalue": "name 'ckpt' is not defined",
     "output_type": "error",
     "traceback": [
      "\u001b[0;31m---------------------------------------------------------------------------\u001b[0m",
      "\u001b[0;31mNameError\u001b[0m                                 Traceback (most recent call last)",
      "\u001b[1;32m/scratch/users/k21113539/SR-UNet/inference/inference_CREATE.ipynb Cell 5'\u001b[0m in \u001b[0;36m<cell line: 2>\u001b[0;34m()\u001b[0m\n\u001b[1;32m      <a href='vscode-notebook-cell://ssh-remote%2B7b22686f73744e616d65223a22435245415445227d/scratch/users/k21113539/SR-UNet/inference/inference_CREATE.ipynb#ch0000040vscode-remote?line=0'>1</a>\u001b[0m n_layer \u001b[39m=\u001b[39m \u001b[39m0\u001b[39m\n\u001b[0;32m----> <a href='vscode-notebook-cell://ssh-remote%2B7b22686f73744e616d65223a22435245415445227d/scratch/users/k21113539/SR-UNet/inference/inference_CREATE.ipynb#ch0000040vscode-remote?line=1'>2</a>\u001b[0m \u001b[39mfor\u001b[39;00m layer \u001b[39min\u001b[39;00m ckpt[\u001b[39m'\u001b[39m\u001b[39mstate_dict\u001b[39m\u001b[39m'\u001b[39m]\u001b[39m.\u001b[39mkeys():\n\u001b[1;32m      <a href='vscode-notebook-cell://ssh-remote%2B7b22686f73744e616d65223a22435245415445227d/scratch/users/k21113539/SR-UNet/inference/inference_CREATE.ipynb#ch0000040vscode-remote?line=2'>3</a>\u001b[0m     \u001b[39m## check require grad\u001b[39;00m\n\u001b[1;32m      <a href='vscode-notebook-cell://ssh-remote%2B7b22686f73744e616d65223a22435245415445227d/scratch/users/k21113539/SR-UNet/inference/inference_CREATE.ipynb#ch0000040vscode-remote?line=3'>4</a>\u001b[0m     \u001b[39mprint\u001b[39m(layer)\n\u001b[1;32m      <a href='vscode-notebook-cell://ssh-remote%2B7b22686f73744e616d65223a22435245415445227d/scratch/users/k21113539/SR-UNet/inference/inference_CREATE.ipynb#ch0000040vscode-remote?line=4'>5</a>\u001b[0m     n_layer \u001b[39m+\u001b[39m\u001b[39m=\u001b[39m \u001b[39m1\u001b[39m\n",
      "\u001b[0;31mNameError\u001b[0m: name 'ckpt' is not defined"
     ]
    }
   ],
   "source": [
    "n_layer = 0\n",
    "for layer in ckpt['state_dict'].keys():\n",
    "    ## check require grad\n",
    "    print(layer)\n",
    "    n_layer += 1\n",
    "print(\"Total number of layers: \",n_layer)"
   ]
  },
  {
   "cell_type": "code",
   "execution_count": null,
   "metadata": {},
   "outputs": [],
   "source": [
    "# optim = torch.optim.Adam(\n",
    "#     model.parameters(),\n",
    "#     betas=(0.9, 0.99)\n",
    "# )\n",
    "# engine, train_dataloader, test_dataloader, lr_scheduler = colossalai.initialize(\n",
    "#     model=model,\n",
    "#     optimizer=optim,\n",
    "#     verbose=True,)\n",
    "# trainer = Trainer(engine=engine)"
   ]
  },
  {
   "cell_type": "code",
   "execution_count": null,
   "metadata": {},
   "outputs": [],
   "source": [
    "# for k in model.state_dict().keys():\n",
    "#     if ckpt['model'].get(k) is None:\n",
    "#         print(k)"
   ]
  },
  {
   "cell_type": "code",
   "execution_count": null,
   "metadata": {},
   "outputs": [],
   "source": []
  },
  {
   "cell_type": "code",
   "execution_count": 5,
   "metadata": {},
   "outputs": [],
   "source": [
    "import h5py as h5\n",
    "h5file = '/scratch/prj/bayunet/dhcp_lores/preprocessed_h5/sub-CC00582XX14.h5'\n",
    "\n",
    "with h5.File(h5file,'r') as f:\n",
    "    image = f['image_t1'][...].astype(np.float32)\n",
    "    target = f['gt_t1'][...].astype(np.float32)\n",
    "image_array = image\n",
    "target_array = target\n",
    "image_tensor = torch.from_numpy(image).unsqueeze(0).unsqueeze(0)\n",
    "target_tensor = torch.from_numpy(target).unsqueeze(0).unsqueeze(0)"
   ]
  },
  {
   "cell_type": "code",
   "execution_count": null,
   "metadata": {},
   "outputs": [],
   "source": [
    "# encoder_weights = next(model.encoders[-1].parameters())\n",
    "# encoder_weights = encoder_weights.cpu().detach().numpy()\n",
    "# encoder_weights= np.expand_dims(encoder_weights,axis=1)\n",
    "# encoder_weights = np.repeat(encoder_weights, 128, axis=1)\n",
    "# if not UNET:\n",
    "#     fig,(ax1,ax2) = plt.subplots(1,2)\n",
    "#     im1 = ax1.imshow(encoder_weights)\n",
    "#     ax1.set_title(\"encoder weights\")\n",
    "#     divider = make_axes_locatable(ax1)\n",
    "#     cax = divider.append_axes(\"right\", size=\"5%\", pad=0.05)\n",
    "#     fig.colorbar(im1, cax=cax, orientation=\"vertical\")\n",
    "\n",
    "#     latent_weights = next(model.mu.parameters())\n",
    "#     latent_weights = latent_weights.cpu().detach().numpy()\n",
    "#     latent_weights = np.repeat(latent_weights, 128, axis=1)\n",
    "\n",
    "#     im2 = ax2.imshow(encoder_weights)\n",
    "#     ax2.set_title(\"latent weights\")\n",
    "#     divider = make_axes_locatable(ax2)\n",
    "#     cax = divider.append_axes(\"right\", size=\"5%\", pad=0.05)\n",
    "#     fig.colorbar(im2, cax=cax, orientation=\"vertical\")\n",
    "#     fig.show()\n",
    "# else:\n",
    "#     fig = plt.imshow(encoder_weights)\n",
    "#     plt.title(\"encoder weights\")\n",
    "#     plt.colorbar()\n",
    "#     plt.show()\n",
    "# plt.savefig(OUTPUT_PREFIX+\"_encoder_weights.png\")"
   ]
  },
  {
   "cell_type": "code",
   "execution_count": null,
   "metadata": {},
   "outputs": [],
   "source": [
    "# image = sitk.ReadImage(\"/home/viscent/hdd/viscent/SR-UNet/experiments/output_vae_1024_t1/0/image.nii.gz\")\n",
    "# target = sitk.ReadImage(\"/home/viscent/hdd/viscent/SR-UNet/experiments/output_vae_1024_t1/0/target.nii.gz\")\n",
    "# image_array = sitk.GetArrayFromImage(image)\n",
    "# target_array = sitk.GetArrayFromImage(target)\n",
    "# image_tensor = torch.tensor(image_array).unsqueeze(0).unsqueeze(0)\n",
    "# target_tensor = torch.tensor(target_array).unsqueeze(0).unsqueeze(0)"
   ]
  },
  {
   "cell_type": "code",
   "execution_count": 4,
   "metadata": {},
   "outputs": [],
   "source": [
    "# with h5.File(\"/scratch/prj/bayunet/HCP_1200/preprocessed_h5/100206.h5\",\"r\") as f:\n",
    "#     image = f['image_t1'][...].astype(np.float32)\n",
    "#     target = f['gt_t1'][...].astype(np.float32)\n",
    "# image_array = image\n",
    "# target_array = target\n",
    "# image_tensor = torch.from_numpy(image).unsqueeze(0).unsqueeze(0)\n",
    "# target_tensor = torch.from_numpy(target).unsqueeze(0).unsqueeze(0)"
   ]
  },
  {
   "cell_type": "code",
   "execution_count": null,
   "metadata": {},
   "outputs": [],
   "source": [
    "# with torch.cuda.amp.autocast(enabled=True):\n",
    "# image_array = np.load(\"/scratch/prj/bayunet/experiments/output_vae_hcp_t1_800/0/val_image.npy\")\n",
    "# target_array = np.load(\"/scratch/prj/bayunet/experiments/output_vae_hcp_t1_800/0/val_target.npy\")\n",
    "# image_tensor = torch.tensor(image_array).unsqueeze(0)\n",
    "# target_tensor = torch.tensor(image_array).unsqueeze(0)\n",
    "# image_tensor = image_tensor.repeat(3,1,1,1,1)"
   ]
  },
  {
   "cell_type": "code",
   "execution_count": null,
   "metadata": {},
   "outputs": [],
   "source": [
    "# image_tensor.shape"
   ]
  },
  {
   "cell_type": "code",
   "execution_count": 21,
   "metadata": {},
   "outputs": [
    {
     "data": {
      "text/html": [
       "<pre style=\"white-space:pre;overflow-x:auto;line-height:normal;font-family:Menlo,'DejaVu Sans Mono',consolas,'Courier New',monospace\"><span style=\"color: #7fbfbf; text-decoration-color: #7fbfbf\">[06/07/22 02:34:51] </span><span style=\"color: #000080; text-decoration-color: #000080\">INFO    </span> colossalai - root - INFO: Creating dataset with <span style=\"color: #008080; text-decoration-color: #008080; font-weight: bold\">40</span> examples     \n",
       "</pre>\n"
      ],
      "text/plain": [
       "\u001b[2;36m[06/07/22 02:34:51]\u001b[0m\u001b[2;36m \u001b[0m\u001b[34mINFO    \u001b[0m colossalai - root - INFO: Creating dataset with \u001b[1;36m40\u001b[0m examples     \n"
      ]
     },
     "metadata": {},
     "output_type": "display_data"
    },
    {
     "data": {
      "application/vnd.jupyter.widget-view+json": {
       "model_id": "2494392aba1b41ab836093d78da50338",
       "version_major": 2,
       "version_minor": 0
      },
      "text/plain": [
       "  0%|          | 0/40 [00:00<?, ?it/s]"
      ]
     },
     "metadata": {},
     "output_type": "display_data"
    },
    {
     "data": {
      "text/html": [
       "<pre style=\"white-space:pre;overflow-x:auto;line-height:normal;font-family:Menlo,'DejaVu Sans Mono',consolas,'Courier New',monospace\"><span style=\"color: #7fbfbf; text-decoration-color: #7fbfbf\">[06/07/22 02:34:58] </span><span style=\"color: #000080; text-decoration-color: #000080\">INFO    </span> colossalai - root - INFO: Creating dataset with <span style=\"color: #008080; text-decoration-color: #008080; font-weight: bold\">10</span> examples     \n",
       "</pre>\n"
      ],
      "text/plain": [
       "\u001b[2;36m[06/07/22 02:34:58]\u001b[0m\u001b[2;36m \u001b[0m\u001b[34mINFO    \u001b[0m colossalai - root - INFO: Creating dataset with \u001b[1;36m10\u001b[0m examples     \n"
      ]
     },
     "metadata": {},
     "output_type": "display_data"
    },
    {
     "data": {
      "application/vnd.jupyter.widget-view+json": {
       "model_id": "231458a836984c2589f0153d82ebd502",
       "version_major": 2,
       "version_minor": 0
      },
      "text/plain": [
       "  0%|          | 0/10 [00:00<?, ?it/s]"
      ]
     },
     "metadata": {},
     "output_type": "display_data"
    }
   ],
   "source": [
    "from dataloaders import get_synth_dhcp_dataloader, get_synth_hcp_dataloader\n",
    "dataloaders, val_loader = get_synth_hcp_dataloader(data_dir=\"/scratch/prj/bayunet/HCP_1200\",\n",
    "                                                    batch_size=1,\n",
    "                                                    num_samples=50,\n",
    "                                                    input_modalities=[\"t1\"],\n",
    "                                                    output_modalities=[\"t1\"],\n",
    "                                                    output_dir=\"/scratch/prj/bayunet/HCP_1200/preprocessed_h5\",\n",
    "                                                    n_splits=5,\n",
    "                                                    augmentation=False,\n",
    "                                                    down_factor=5,)\n",
    "image_tensor,target_tensor = next(iter(val_loader))\n"
   ]
  },
  {
   "cell_type": "code",
   "execution_count": 43,
   "metadata": {},
   "outputs": [],
   "source": [
    "# with torch.cuda.amp.autocast(enabled=True):\n",
    "# torch.cuda.set_device(0)\n",
    "\n",
    "# engine.train()\n",
    "image_tensor,target_tensor = next(iter(val_loader))\n",
    "image_tensor = image_tensor\n",
    "target_tensor = target_tensor\n",
    "model.zero_grad()\n",
    "output = model(image_tensor)\n",
    "# output = trainer.engine(image_tensor)"
   ]
  },
  {
   "cell_type": "code",
   "execution_count": 44,
   "metadata": {},
   "outputs": [
    {
     "name": "stdout",
     "output_type": "stream",
     "text": [
      "mse: 0.036522124\n"
     ]
    }
   ],
   "source": [
    "im = target_tensor\n",
    "im_hat=output\n",
    "mse = torch.nn.MSELoss()(im, im_hat)\n",
    "print('mse:', mse.cpu().detach().numpy())\n",
    "if not UNET:\n",
    "    mu, logvar = model.enc_mu,model.enc_logvar\n",
    "    kl = 0.5 * (logvar.exp() + mu**2 - 1 - logvar)\n",
    "    kl = torch.sum(kl)\n",
    "    FE_simple = mse + 0.00025 * kl\n",
    "    print('kl:', kl.cpu().detach().numpy())\n",
    "    print('Free energy:', FE_simple.cpu().detach().numpy())"
   ]
  },
  {
   "cell_type": "code",
   "execution_count": 45,
   "metadata": {},
   "outputs": [],
   "source": [
    "# with torch.cuda.amp.autocast(enabled=True):\n",
    "#     print(model)"
   ]
  },
  {
   "cell_type": "code",
   "execution_count": 46,
   "metadata": {},
   "outputs": [],
   "source": [
    "image_array = image_tensor.cpu().detach().numpy().astype(np.float32)\n",
    "target_array = target_tensor.cpu().detach().numpy().astype(np.float32)\n",
    "output_array = output.cpu().detach().numpy().astype(np.float32)\n",
    "output_image=sitk.GetImageFromArray(output_array)\n",
    "# sitk.WriteImage(output_image,OUTPUT_PREFIX+\"_output.nii.gz\")"
   ]
  },
  {
   "cell_type": "code",
   "execution_count": 47,
   "metadata": {},
   "outputs": [
    {
     "name": "stdout",
     "output_type": "stream",
     "text": [
      "Image\n"
     ]
    },
    {
     "data": {
      "text/plain": [
       "Text(0.5, 1.0, 'Image')"
      ]
     },
     "execution_count": 47,
     "metadata": {},
     "output_type": "execute_result"
    },
    {
     "data": {
      "image/png": "[encoded data removed]",
      "text/plain": [
       "<Figure size 432x288 with 1 Axes>"
      ]
     },
     "metadata": {
      "needs_background": "light"
     },
     "output_type": "display_data"
    }
   ],
   "source": [
    "print(\"Image\")\n",
    "plt.imshow(image_array[0,0,image_array.shape[2]//2,...],cmap='gray')\n",
    "plt.title(\"Image\")"
   ]
  },
  {
   "cell_type": "code",
   "execution_count": 48,
   "metadata": {},
   "outputs": [],
   "source": [
    "# image_tensor.shape"
   ]
  },
  {
   "cell_type": "code",
   "execution_count": 49,
   "metadata": {},
   "outputs": [
    {
     "name": "stdout",
     "output_type": "stream",
     "text": [
      "Output\n"
     ]
    },
    {
     "data": {
      "text/plain": [
       "Text(0.5, 1.0, 'Output')"
      ]
     },
     "execution_count": 49,
     "metadata": {},
     "output_type": "execute_result"
    },
    {
     "data": {
      "image/png": "[encoded data removed]",
      "text/plain": [
       "<Figure size 432x288 with 1 Axes>"
      ]
     },
     "metadata": {
      "needs_background": "light"
     },
     "output_type": "display_data"
    }
   ],
   "source": [
    "print(\"Output\")\n",
    "plt.imshow(output_array[0,0,output_array.shape[2]//2,...],cmap='gray')\n",
    "plt.title(\"Output\")"
   ]
  },
  {
   "cell_type": "code",
   "execution_count": 13,
   "metadata": {},
   "outputs": [
    {
     "name": "stdout",
     "output_type": "stream",
     "text": [
      "Target\n"
     ]
    },
    {
     "data": {
      "text/plain": [
       "Text(0.5, 1.0, 'Target')"
      ]
     },
     "execution_count": 13,
     "metadata": {},
     "output_type": "execute_result"
    },
    {
     "data": {
      "image/png": "[encoded data removed]",
      "text/plain": [
       "<Figure size 432x288 with 1 Axes>"
      ]
     },
     "metadata": {
      "needs_background": "light"
     },
     "output_type": "display_data"
    }
   ],
   "source": [
    "print(\"Target\")\n",
    "plt.imshow(target_array[0,0,target_array.shape[2]//2,...],cmap='gray')\n",
    "plt.title(\"Target\")"
   ]
  },
  {
   "cell_type": "code",
   "execution_count": null,
   "metadata": {},
   "outputs": [],
   "source": [
    "# for encoder in model.encoders:\n",
    "#     for param in encoder.parameters():\n",
    "#         param.requires_grad = False\n",
    "#         param.fill_(0)\n",
    "# for decoder in model.decoders:\n",
    "#     for param in decoder.parameters():\n",
    "#         param.requires_grad = False\n",
    "#         param.fill_(0)"
   ]
  },
  {
   "cell_type": "code",
   "execution_count": null,
   "metadata": {},
   "outputs": [],
   "source": [
    "model.logvar.bias"
   ]
  },
  {
   "cell_type": "code",
   "execution_count": null,
   "metadata": {},
   "outputs": [],
   "source": [
    "import torch.nn as nn\n",
    "for x in model.modules():\n",
    "    if isinstance(x, nn.Conv3d):\n",
    "        print(x)\n",
    "        x.requires_grad_(False)\n",
    "        x.weight.fill_(0)"
   ]
  },
  {
   "cell_type": "code",
   "execution_count": null,
   "metadata": {},
   "outputs": [],
   "source": [
    "model.train()"
   ]
  },
  {
   "cell_type": "code",
   "execution_count": null,
   "metadata": {},
   "outputs": [],
   "source": [
    "if not UNET:\n",
    "    for param in model.logvar.parameters():\n",
    "        param.requires_grad = False\n",
    "        param.fill_(-65535)\n",
    "    output_0mu = engine(image_tensor)\n",
    "    output_0mu_array = output_0mu.cpu().detach().numpy().astype(np.float32)\n",
    "    output_0mu_image=sitk.GetImageFromArray(output_0mu_array)\n",
    "    print(\"Output μ=0\")\n",
    "    \n",
    "    fig,(ax1,ax2) = plt.subplots(1,2)\n",
    "    im1 = ax1.imshow(output_array[0,0,40,...],cmap='gray')\n",
    "    ax1.set_title(\"Output\")\n",
    "\n",
    "    im2 = ax2.imshow(output_0mu_array[0,0,40,...],cmap='gray')\n",
    "    ax2.set_title(\"Output μ=0\")\n",
    "else:\n",
    "    for param in model.encoders[0].parameters():\n",
    "        param.requires_grad = False\n",
    "        param.fill_(0)\n",
    "    output_0latent = model(image_tensor)\n",
    "    output_0latent_array = output_0latent.cpu().detach().numpy()\n",
    "    output_0latent_image=sitk.GetImageFromArray(output_0latent_array)\n",
    "    print(\"Output latent=0\")\n",
    "\n",
    "    fig,(ax1,ax2) = plt.subplots(1,2)\n",
    "    im1 = ax1.imshow(output_array[0,0,40,...],cmap='gray')\n",
    "    ax1.set_title(\"Output\")\n",
    "\n",
    "    im2 = ax2.imshow(output_0latent_array[0,0,40,...],cmap='gray')\n",
    "    ax2.set_title(\"Output latent=0\")\n",
    "plt.savefig(OUTPUT_PREFIX+\"_output.png\")"
   ]
  },
  {
   "cell_type": "code",
   "execution_count": null,
   "metadata": {},
   "outputs": [],
   "source": [
    "make_dot(output,params=dict(model.named_parameters())).render(OUTPUT_PREFIX+\"_structure\")"
   ]
  },
  {
   "cell_type": "code",
   "execution_count": null,
   "metadata": {},
   "outputs": [],
   "source": [
    "UNET = False\n",
    "CKPT_DIR = \"/media/hdd/viscent/SR-UNet/experiments/output_vae_1024_t1/checkpoints/fold_0/199.pth\"\n",
    "OUTPUT_ROOT = \"/media/hdd/viscent/SR-UNet/inference\"\n",
    "OUTPUT_PREFIX = input(\"B-UNet File prefix: \")\n",
    "OUTPUT_PREFIX = os.path.join(OUTPUT_ROOT,OUTPUT_PREFIX)\n",
    "\n",
    "if not UNET:\n",
    "    model = BUNet3D(in_channels=1,\n",
    "            out_channels=1,\n",
    "            f_maps=[16, 32, 64, 128, 256],\n",
    "            layer_order='gcr',\n",
    "            num_groups=8,\n",
    "            is_segmentation=False,\n",
    "            latent_size=1024,\n",
    "            alpha=0.00025,\n",
    "            )\n",
    "else:\n",
    "    model = UNet3D(in_channels=1,\n",
    "            out_channels=1,\n",
    "            f_maps=[16, 32, 64, 128, 256],\n",
    "            layer_order='gcr',\n",
    "            num_groups=8,\n",
    "            is_segmentation=False,\n",
    "    )\n",
    "ckpt = torch.load(CKPT_DIR)\n",
    "if ckpt.get('model') is None:\n",
    "    state_dict = ckpt['state_dict']\n",
    "    _state_dict = {}\n",
    "    for key in state_dict.keys():\n",
    "        _state_dict[key.replace(\"model.\",\"\")] = state_dict[key]\n",
    "    model.load_state_dict(_state_dict)\n",
    "else:\n",
    "    model.load_state_dict(ckpt[\"model\"])"
   ]
  },
  {
   "cell_type": "code",
   "execution_count": null,
   "metadata": {},
   "outputs": [],
   "source": [
    "encoder_weights = next(model.encoders[-1].parameters())\n",
    "encoder_weights = encoder_weights.cpu().detach().numpy()\n",
    "encoder_weights= np.expand_dims(encoder_weights,axis=1)\n",
    "encoder_weights = np.repeat(encoder_weights, 128, axis=1)\n",
    "if not UNET:\n",
    "    fig,(ax1,ax2) = plt.subplots(1,2)\n",
    "    im1 = ax1.imshow(encoder_weights)\n",
    "    ax1.set_title(\"encoder weights\")\n",
    "    divider = make_axes_locatable(ax1)\n",
    "    cax = divider.append_axes(\"right\", size=\"5%\", pad=0.05)\n",
    "    fig.colorbar(im1, cax=cax, orientation=\"vertical\")\n",
    "\n",
    "    latent_weights = next(model.mu.parameters())\n",
    "    latent_weights = latent_weights.cpu().detach().numpy()\n",
    "    latent_weights = np.repeat(latent_weights, 128, axis=1)\n",
    "\n",
    "    im2 = ax2.imshow(latent_weights)\n",
    "    ax2.set_title(\"latent weights\")\n",
    "    divider = make_axes_locatable(ax2)\n",
    "    cax = divider.append_axes(\"right\", size=\"5%\", pad=0.05)\n",
    "    fig.colorbar(im2, cax=cax, orientation=\"vertical\")\n",
    "    fig.show()\n",
    "else:\n",
    "    fig = plt.imshow(encoder_weights)\n",
    "    plt.title(\"encoder weights\")\n",
    "    plt.colorbar()\n",
    "    plt.show()\n",
    "plt.savefig(OUTPUT_PREFIX+\"_encoder_weights.png\")"
   ]
  },
  {
   "cell_type": "code",
   "execution_count": null,
   "metadata": {},
   "outputs": [],
   "source": [
    "image = sitk.ReadImage(\"/media/hdd/viscent/SynthSR/generated_data_multimodal/0008_image_t1.nii.gz\")\n",
    "target = sitk.ReadImage(\"/media/hdd/viscent/SynthSR/generated_data_multimodal/0008_target.nii.gz\")\n",
    "image_array = sitk.GetArrayFromImage(image)\n",
    "target_array = sitk.GetArrayFromImage(target)\n",
    "image_tensor = torch.tensor(image_array).unsqueeze(0).unsqueeze(0)\n",
    "target_tensor = torch.tensor(target_array).unsqueeze(0).unsqueeze(0)"
   ]
  },
  {
   "cell_type": "code",
   "execution_count": null,
   "metadata": {},
   "outputs": [],
   "source": [
    "torch.cuda.set_device(0)\n",
    "model.cuda()\n",
    "model.train()\n",
    "image_tensor = image_tensor.cuda()\n",
    "target_tensor = target_tensor.cuda()\n",
    "output = model(image_tensor)\n"
   ]
  },
  {
   "cell_type": "code",
   "execution_count": null,
   "metadata": {},
   "outputs": [],
   "source": [
    "im = image_tensor\n",
    "im_hat=output\n",
    "mse = torch.nn.MSELoss()(im, im_hat)\n",
    "print('mse:', mse.cpu().detach().numpy())\n",
    "if not UNET:\n",
    "    mu, logvar = model.enc_mu, model.enc_logvar\n",
    "    kl = 0.5 * (logvar.exp() + mu**2 - 1 - logvar)\n",
    "    kl = torch.sum(kl)\n",
    "    FE_simple = mse + 0.00025 * kl\n",
    "    print('kl:', kl.cpu().detach().numpy())\n",
    "    print('Free energy:', FE_simple.cpu().detach().numpy())"
   ]
  },
  {
   "cell_type": "code",
   "execution_count": null,
   "metadata": {},
   "outputs": [],
   "source": [
    "output_array = output.cpu().detach().numpy()\n",
    "output_image=sitk.GetImageFromArray(output_array)\n",
    "sitk.WriteImage(output_image,OUTPUT_PREFIX+\"_output.nii\")"
   ]
  },
  {
   "cell_type": "code",
   "execution_count": null,
   "metadata": {},
   "outputs": [],
   "source": [
    "print(\"Image\")\n",
    "plt.imshow(image_array[40,...],cmap='gray')\n",
    "plt.title(\"Image\")"
   ]
  },
  {
   "cell_type": "code",
   "execution_count": null,
   "metadata": {},
   "outputs": [],
   "source": [
    "print(\"Output\")\n",
    "plt.imshow(output_array[0,0,40,...],cmap='gray')\n",
    "plt.title(\"Output\")"
   ]
  },
  {
   "cell_type": "code",
   "execution_count": null,
   "metadata": {},
   "outputs": [],
   "source": [
    "print(\"Target\")\n",
    "plt.imshow(target_array[40,...],cmap='gray')\n",
    "plt.title(\"Target\")"
   ]
  },
  {
   "cell_type": "code",
   "execution_count": null,
   "metadata": {},
   "outputs": [],
   "source": [
    "if not UNET:\n",
    "    for param in model.mu.parameters():\n",
    "        param.requires_grad = False\n",
    "        param.fill_(0)\n",
    "    output_0mu = model(image_tensor)\n",
    "    output_0mu_array = output_0mu.cpu().detach().numpy()\n",
    "    output_0mu_image=sitk.GetImageFromArray(output_0mu_array)\n",
    "    print(\"Output μ=0\")\n",
    "    \n",
    "    fig,(ax1,ax2) = plt.subplots(1,2)\n",
    "    im1 = ax1.imshow(output_array[0,0,40,...],cmap='gray')\n",
    "    ax1.set_title(\"Output\")\n",
    "\n",
    "    im2 = ax2.imshow(output_0mu_array[0,0,40,...],cmap='gray')\n",
    "    ax2.set_title(\"Output μ=0\")\n",
    "else:\n",
    "    for param in model.encoders[0].parameters():\n",
    "        param.requires_grad = False\n",
    "        param.fill_(0)\n",
    "    output_0latent = model(image_tensor)\n",
    "    output_0latent_array = output_0latent.cpu().detach().numpy()\n",
    "    output_0latent_image=sitk.GetImageFromArray(output_0latent_array)\n",
    "    print(\"Output latent=0\")\n",
    "\n",
    "    fig,(ax1,ax2) = plt.subplots(1,2)\n",
    "    im1 = ax1.imshow(output_array[0,0,40,...],cmap='gray')\n",
    "    ax1.set_title(\"Output\")\n",
    "\n",
    "    im2 = ax2.imshow(output_0latent_array[0,0,40,...],cmap='gray')\n",
    "    ax2.set_title(\"Output latent=0\")\n",
    "plt.savefig(OUTPUT_PREFIX+\"_output_0.png\")"
   ]
  },
  {
   "cell_type": "code",
   "execution_count": null,
   "metadata": {},
   "outputs": [],
   "source": [
    "make_dot(output,params=dict(model.named_parameters())).render(OUTPUT_PREFIX+\"_structure\")"
   ]
  }
 ],
 "metadata": {
  "interpreter": {
   "hash": "ff91d6d771b37266b23766d79b0c697874f607c0cce11e1250457dff8738e4fc"
  },
  "kernelspec": {
   "display_name": "Python 3.9.12 ('cai')",
   "language": "python",
   "name": "python3"
  },
  "language_info": {
   "codemirror_mode": {
    "name": "ipython",
    "version": 3
   },
   "file_extension": ".py",
   "mimetype": "text/x-python",
   "name": "python",
   "nbconvert_exporter": "python",
   "pygments_lexer": "ipython3",
   "version": "3.9.12"
  },
  "orig_nbformat": 4
 },
 "nbformat": 4,
 "nbformat_minor": 2
}
