{
 "cells": [
  {
   "cell_type": "code",
   "execution_count": 14,
   "metadata": {},
   "outputs": [],
   "source": [
    "import torch\n",
    "import sys\n",
    "sys.path.append(\"/media/hdd/viscent/SR-UNet\")\n",
    "from models.unet3d.model import BUNet3D,UNet3D\n",
    "\n",
    "import os \n",
    "import numpy as np\n",
    "import SimpleITK as sitk\n",
    "import matplotlib.pyplot as plt\n",
    "import torch.nn as nn\n",
    "from mpl_toolkits.axes_grid1 import make_axes_locatable\n",
    "from torchviz import make_dot\n",
    "from colossalai.utils import load_checkpoint\n",
    "from colossalai.initialize import launch,initialize\n",
    "import colossalai\n",
    "from colossalai.trainer import Trainer, hooks"
   ]
  },
  {
   "cell_type": "code",
   "execution_count": null,
   "metadata": {},
   "outputs": [],
   "source": [
    "# launch('/home/viscent/hdd/viscent/SR-UNet/configs/config_vae_dhcp_dbg.py',0,1,'localhost',11451)"
   ]
  },
  {
   "cell_type": "code",
   "execution_count": 67,
   "metadata": {},
   "outputs": [
    {
     "name": "stdout",
     "output_type": "stream",
     "text": [
      "Conv3d(1, 8, kernel_size=(3, 3, 3), stride=(1, 1, 1), padding=(1, 1, 1), bias=False)\n",
      "Conv3d(8, 16, kernel_size=(3, 3, 3), stride=(1, 1, 1), padding=(1, 1, 1), bias=False)\n",
      "Conv3d(16, 16, kernel_size=(3, 3, 3), stride=(1, 1, 1), padding=(1, 1, 1), bias=False)\n",
      "Conv3d(16, 32, kernel_size=(3, 3, 3), stride=(1, 1, 1), padding=(1, 1, 1), bias=False)\n",
      "Conv3d(32, 32, kernel_size=(3, 3, 3), stride=(1, 1, 1), padding=(1, 1, 1), bias=False)\n",
      "Conv3d(32, 64, kernel_size=(3, 3, 3), stride=(1, 1, 1), padding=(1, 1, 1), bias=False)\n",
      "Conv3d(64, 64, kernel_size=(3, 3, 3), stride=(1, 1, 1), padding=(1, 1, 1), bias=False)\n",
      "Conv3d(64, 128, kernel_size=(3, 3, 3), stride=(1, 1, 1), padding=(1, 1, 1), bias=False)\n",
      "Conv3d(128, 128, kernel_size=(3, 3, 3), stride=(1, 1, 1), padding=(1, 1, 1), bias=False)\n",
      "Conv3d(128, 256, kernel_size=(3, 3, 3), stride=(1, 1, 1), padding=(1, 1, 1), bias=False)\n",
      "Conv3d(384, 128, kernel_size=(3, 3, 3), stride=(1, 1, 1), padding=(1, 1, 1), bias=False)\n",
      "Conv3d(128, 128, kernel_size=(3, 3, 3), stride=(1, 1, 1), padding=(1, 1, 1), bias=False)\n",
      "Conv3d(192, 64, kernel_size=(3, 3, 3), stride=(1, 1, 1), padding=(1, 1, 1), bias=False)\n",
      "Conv3d(64, 64, kernel_size=(3, 3, 3), stride=(1, 1, 1), padding=(1, 1, 1), bias=False)\n",
      "Conv3d(96, 32, kernel_size=(3, 3, 3), stride=(1, 1, 1), padding=(1, 1, 1), bias=False)\n",
      "Conv3d(32, 32, kernel_size=(3, 3, 3), stride=(1, 1, 1), padding=(1, 1, 1), bias=False)\n",
      "Conv3d(48, 16, kernel_size=(3, 3, 3), stride=(1, 1, 1), padding=(1, 1, 1), bias=False)\n",
      "Conv3d(16, 16, kernel_size=(3, 3, 3), stride=(1, 1, 1), padding=(1, 1, 1), bias=False)\n",
      "Conv3d(16, 1, kernel_size=(1, 1, 1), stride=(1, 1, 1))\n"
     ]
    },
    {
     "data": {
      "text/plain": [
       "BUNet3D(\n",
       "  (encoders): ModuleList(\n",
       "    (0): Encoder(\n",
       "      (basic_module): DoubleConv(\n",
       "        (SingleConv1): SingleConv(\n",
       "          (groupnorm): GroupNorm(1, 1, eps=1e-05, affine=True)\n",
       "          (conv): Conv3d(1, 8, kernel_size=(3, 3, 3), stride=(1, 1, 1), padding=(1, 1, 1), bias=False)\n",
       "          (ReLU): ReLU(inplace=True)\n",
       "        )\n",
       "        (SingleConv2): SingleConv(\n",
       "          (groupnorm): GroupNorm(8, 8, eps=1e-05, affine=True)\n",
       "          (conv): Conv3d(8, 16, kernel_size=(3, 3, 3), stride=(1, 1, 1), padding=(1, 1, 1), bias=False)\n",
       "          (ReLU): ReLU(inplace=True)\n",
       "        )\n",
       "      )\n",
       "    )\n",
       "    (1): Encoder(\n",
       "      (pooling): MaxPool3d(kernel_size=2, stride=2, padding=0, dilation=1, ceil_mode=False)\n",
       "      (basic_module): DoubleConv(\n",
       "        (SingleConv1): SingleConv(\n",
       "          (groupnorm): GroupNorm(8, 16, eps=1e-05, affine=True)\n",
       "          (conv): Conv3d(16, 16, kernel_size=(3, 3, 3), stride=(1, 1, 1), padding=(1, 1, 1), bias=False)\n",
       "          (ReLU): ReLU(inplace=True)\n",
       "        )\n",
       "        (SingleConv2): SingleConv(\n",
       "          (groupnorm): GroupNorm(8, 16, eps=1e-05, affine=True)\n",
       "          (conv): Conv3d(16, 32, kernel_size=(3, 3, 3), stride=(1, 1, 1), padding=(1, 1, 1), bias=False)\n",
       "          (ReLU): ReLU(inplace=True)\n",
       "        )\n",
       "      )\n",
       "    )\n",
       "    (2): Encoder(\n",
       "      (pooling): MaxPool3d(kernel_size=2, stride=2, padding=0, dilation=1, ceil_mode=False)\n",
       "      (basic_module): DoubleConv(\n",
       "        (SingleConv1): SingleConv(\n",
       "          (groupnorm): GroupNorm(8, 32, eps=1e-05, affine=True)\n",
       "          (conv): Conv3d(32, 32, kernel_size=(3, 3, 3), stride=(1, 1, 1), padding=(1, 1, 1), bias=False)\n",
       "          (ReLU): ReLU(inplace=True)\n",
       "        )\n",
       "        (SingleConv2): SingleConv(\n",
       "          (groupnorm): GroupNorm(8, 32, eps=1e-05, affine=True)\n",
       "          (conv): Conv3d(32, 64, kernel_size=(3, 3, 3), stride=(1, 1, 1), padding=(1, 1, 1), bias=False)\n",
       "          (ReLU): ReLU(inplace=True)\n",
       "        )\n",
       "      )\n",
       "    )\n",
       "    (3): Encoder(\n",
       "      (pooling): MaxPool3d(kernel_size=2, stride=2, padding=0, dilation=1, ceil_mode=False)\n",
       "      (basic_module): DoubleConv(\n",
       "        (SingleConv1): SingleConv(\n",
       "          (groupnorm): GroupNorm(8, 64, eps=1e-05, affine=True)\n",
       "          (conv): Conv3d(64, 64, kernel_size=(3, 3, 3), stride=(1, 1, 1), padding=(1, 1, 1), bias=False)\n",
       "          (ReLU): ReLU(inplace=True)\n",
       "        )\n",
       "        (SingleConv2): SingleConv(\n",
       "          (groupnorm): GroupNorm(8, 64, eps=1e-05, affine=True)\n",
       "          (conv): Conv3d(64, 128, kernel_size=(3, 3, 3), stride=(1, 1, 1), padding=(1, 1, 1), bias=False)\n",
       "          (ReLU): ReLU(inplace=True)\n",
       "        )\n",
       "      )\n",
       "    )\n",
       "    (4): Encoder(\n",
       "      (pooling): MaxPool3d(kernel_size=2, stride=2, padding=0, dilation=1, ceil_mode=False)\n",
       "      (basic_module): DoubleConv(\n",
       "        (SingleConv1): SingleConv(\n",
       "          (groupnorm): GroupNorm(8, 128, eps=1e-05, affine=True)\n",
       "          (conv): Conv3d(128, 128, kernel_size=(3, 3, 3), stride=(1, 1, 1), padding=(1, 1, 1), bias=False)\n",
       "          (ReLU): ReLU(inplace=True)\n",
       "        )\n",
       "        (SingleConv2): SingleConv(\n",
       "          (groupnorm): GroupNorm(8, 128, eps=1e-05, affine=True)\n",
       "          (conv): Conv3d(128, 256, kernel_size=(3, 3, 3), stride=(1, 1, 1), padding=(1, 1, 1), bias=False)\n",
       "          (ReLU): ReLU(inplace=True)\n",
       "        )\n",
       "      )\n",
       "    )\n",
       "  )\n",
       "  (decoders): ModuleList(\n",
       "    (0): Decoder(\n",
       "      (upsampling): InterpolateUpsampling()\n",
       "      (basic_module): DoubleConv(\n",
       "        (SingleConv1): SingleConv(\n",
       "          (groupnorm): GroupNorm(8, 384, eps=1e-05, affine=True)\n",
       "          (conv): Conv3d(384, 128, kernel_size=(3, 3, 3), stride=(1, 1, 1), padding=(1, 1, 1), bias=False)\n",
       "          (ReLU): ReLU(inplace=True)\n",
       "        )\n",
       "        (SingleConv2): SingleConv(\n",
       "          (groupnorm): GroupNorm(8, 128, eps=1e-05, affine=True)\n",
       "          (conv): Conv3d(128, 128, kernel_size=(3, 3, 3), stride=(1, 1, 1), padding=(1, 1, 1), bias=False)\n",
       "          (ReLU): ReLU(inplace=True)\n",
       "        )\n",
       "      )\n",
       "    )\n",
       "    (1): Decoder(\n",
       "      (upsampling): InterpolateUpsampling()\n",
       "      (basic_module): DoubleConv(\n",
       "        (SingleConv1): SingleConv(\n",
       "          (groupnorm): GroupNorm(8, 192, eps=1e-05, affine=True)\n",
       "          (conv): Conv3d(192, 64, kernel_size=(3, 3, 3), stride=(1, 1, 1), padding=(1, 1, 1), bias=False)\n",
       "          (ReLU): ReLU(inplace=True)\n",
       "        )\n",
       "        (SingleConv2): SingleConv(\n",
       "          (groupnorm): GroupNorm(8, 64, eps=1e-05, affine=True)\n",
       "          (conv): Conv3d(64, 64, kernel_size=(3, 3, 3), stride=(1, 1, 1), padding=(1, 1, 1), bias=False)\n",
       "          (ReLU): ReLU(inplace=True)\n",
       "        )\n",
       "      )\n",
       "    )\n",
       "    (2): Decoder(\n",
       "      (upsampling): InterpolateUpsampling()\n",
       "      (basic_module): DoubleConv(\n",
       "        (SingleConv1): SingleConv(\n",
       "          (groupnorm): GroupNorm(8, 96, eps=1e-05, affine=True)\n",
       "          (conv): Conv3d(96, 32, kernel_size=(3, 3, 3), stride=(1, 1, 1), padding=(1, 1, 1), bias=False)\n",
       "          (ReLU): ReLU(inplace=True)\n",
       "        )\n",
       "        (SingleConv2): SingleConv(\n",
       "          (groupnorm): GroupNorm(8, 32, eps=1e-05, affine=True)\n",
       "          (conv): Conv3d(32, 32, kernel_size=(3, 3, 3), stride=(1, 1, 1), padding=(1, 1, 1), bias=False)\n",
       "          (ReLU): ReLU(inplace=True)\n",
       "        )\n",
       "      )\n",
       "    )\n",
       "    (3): Decoder(\n",
       "      (upsampling): InterpolateUpsampling()\n",
       "      (basic_module): DoubleConv(\n",
       "        (SingleConv1): SingleConv(\n",
       "          (groupnorm): GroupNorm(8, 48, eps=1e-05, affine=True)\n",
       "          (conv): Conv3d(48, 16, kernel_size=(3, 3, 3), stride=(1, 1, 1), padding=(1, 1, 1), bias=False)\n",
       "          (ReLU): ReLU(inplace=True)\n",
       "        )\n",
       "        (SingleConv2): SingleConv(\n",
       "          (groupnorm): GroupNorm(8, 16, eps=1e-05, affine=True)\n",
       "          (conv): Conv3d(16, 16, kernel_size=(3, 3, 3), stride=(1, 1, 1), padding=(1, 1, 1), bias=False)\n",
       "          (ReLU): ReLU(inplace=True)\n",
       "        )\n",
       "      )\n",
       "    )\n",
       "  )\n",
       "  (final_conv): Conv3d(16, 1, kernel_size=(1, 1, 1), stride=(1, 1, 1))\n",
       "  (mu): Linear(in_features=256, out_features=256, bias=True)\n",
       "  (logvar): Linear(in_features=256, out_features=256, bias=True)\n",
       "  (latent_to_decode): Linear(in_features=256, out_features=256, bias=True)\n",
       ")"
      ]
     },
     "execution_count": 67,
     "metadata": {},
     "output_type": "execute_result"
    }
   ],
   "source": [
    "UNET = False\n",
    "CKPT_DIR = \"/home/viscent/hdd/viscent/create-models/fold_0.pt\"\n",
    "# CKPT_DIR = \"/home/viscent/hdd/viscent/SR-UNet/experiments/output_vae_dhcp_dbg/checkpoints/fold_0/10.pth\"\n",
    "OUTPUT_ROOT = \"/media/hdd/viscent/SR-UNet/inference\"\n",
    "OUTPUT_PREFIX = input(\"UNet File prefix: \")\n",
    "OUTPUT_PREFIX = os.path.join(OUTPUT_ROOT,OUTPUT_PREFIX)\n",
    "\n",
    "\n",
    "if not UNET:\n",
    "    model = BUNet3D(in_channels=1,\n",
    "            out_channels=1,\n",
    "            f_maps=[16, 32, 64, 128, 256],\n",
    "            layer_order='gcr',\n",
    "            num_groups=8,\n",
    "            is_segmentation=False,\n",
    "            latent_size=256,\n",
    "            alpha=0.00025,\n",
    "            )\n",
    "else:\n",
    "    model = UNet3D(in_channels=1,\n",
    "            out_channels=1,\n",
    "            f_maps=[16, 32, 64, 128, 256],\n",
    "            layer_order='gcr',\n",
    "            num_groups=8,\n",
    "            is_segmentation=False,\n",
    "    )\n",
    "\n",
    "############# Initalize #############\n",
    "model.train()\n",
    "for x in model.modules():\n",
    "    if isinstance(x, nn.Conv3d):\n",
    "        print(x)\n",
    "        x.requires_grad_(False)\n",
    "        x.weight.fill_(0)\n",
    "#####################################\n",
    "\n",
    "ckpt = torch.load(CKPT_DIR)\n",
    "# load_checkpoint(CKPT_DIR, model)\n",
    "# with torch.cuda.amp.autocast(enabled=True):\n",
    "#     if ckpt.get('model') is None:\n",
    "#         state_dict = ckpt['state_dict']\n",
    "#         _state_dict = {}\n",
    "#         for key in state_dict.keys():\n",
    "#             _state_dict[key.replace(\"model.\",\"\")] = state_dict[key]\n",
    "#         model.load_state_dict(_state_dict)\n",
    "#     else:\n",
    "model.load_state_dict(ckpt[\"model\"],strict=False)\n",
    "model.eval()"
   ]
  },
  {
   "cell_type": "code",
   "execution_count": 68,
   "metadata": {},
   "outputs": [],
   "source": [
    "# optim = torch.optim.Adam(\n",
    "#     model.parameters(),\n",
    "#     betas=(0.9, 0.99)\n",
    "# )\n",
    "# engine, train_dataloader, test_dataloader, lr_scheduler = colossalai.initialize(\n",
    "#     model=model,\n",
    "#     optimizer=optim,\n",
    "#     verbose=True,)\n",
    "# trainer = Trainer(engine=engine)"
   ]
  },
  {
   "cell_type": "code",
   "execution_count": 69,
   "metadata": {},
   "outputs": [],
   "source": [
    "# for k in model.state_dict().keys():\n",
    "#     if ckpt['model'].get(k) is None:\n",
    "#         print(k)"
   ]
  },
  {
   "cell_type": "code",
   "execution_count": null,
   "metadata": {},
   "outputs": [],
   "source": []
  },
  {
   "cell_type": "code",
   "execution_count": 70,
   "metadata": {},
   "outputs": [],
   "source": [
    "# encoder_weights = next(model.encoders[-1].parameters())\n",
    "# encoder_weights = encoder_weights.cpu().detach().numpy()\n",
    "# encoder_weights= np.expand_dims(encoder_weights,axis=1)\n",
    "# encoder_weights = np.repeat(encoder_weights, 128, axis=1)\n",
    "# if not UNET:\n",
    "#     fig,(ax1,ax2) = plt.subplots(1,2)\n",
    "#     im1 = ax1.imshow(encoder_weights)\n",
    "#     ax1.set_title(\"encoder weights\")\n",
    "#     divider = make_axes_locatable(ax1)\n",
    "#     cax = divider.append_axes(\"right\", size=\"5%\", pad=0.05)\n",
    "#     fig.colorbar(im1, cax=cax, orientation=\"vertical\")\n",
    "\n",
    "#     latent_weights = next(model.mu.parameters())\n",
    "#     latent_weights = latent_weights.cpu().detach().numpy()\n",
    "#     latent_weights = np.repeat(latent_weights, 128, axis=1)\n",
    "\n",
    "#     im2 = ax2.imshow(encoder_weights)\n",
    "#     ax2.set_title(\"latent weights\")\n",
    "#     divider = make_axes_locatable(ax2)\n",
    "#     cax = divider.append_axes(\"right\", size=\"5%\", pad=0.05)\n",
    "#     fig.colorbar(im2, cax=cax, orientation=\"vertical\")\n",
    "#     fig.show()\n",
    "# else:\n",
    "#     fig = plt.imshow(encoder_weights)\n",
    "#     plt.title(\"encoder weights\")\n",
    "#     plt.colorbar()\n",
    "#     plt.show()\n",
    "# plt.savefig(OUTPUT_PREFIX+\"_encoder_weights.png\")"
   ]
  },
  {
   "cell_type": "code",
   "execution_count": 71,
   "metadata": {},
   "outputs": [],
   "source": [
    "# image = sitk.ReadImage(\"/home/viscent/hdd/viscent/SR-UNet/experiments/output_vae_1024_t1/0/image.nii.gz\")\n",
    "# target = sitk.ReadImage(\"/home/viscent/hdd/viscent/SR-UNet/experiments/output_vae_1024_t1/0/target.nii.gz\")\n",
    "# image_array = sitk.GetArrayFromImage(image)\n",
    "# target_array = sitk.GetArrayFromImage(target)\n",
    "# image_tensor = torch.tensor(image_array).unsqueeze(0).unsqueeze(0).cuda()\n",
    "# target_tensor = torch.tensor(target_array).unsqueeze(0).unsqueeze(0).cuda()"
   ]
  },
  {
   "cell_type": "code",
   "execution_count": 72,
   "metadata": {},
   "outputs": [],
   "source": [
    "# with torch.cuda.amp.autocast(enabled=True):\n",
    "image_array = np.load(\"/home/viscent/hdd/viscent/SR-UNet/experiments/output_vae_dhcp_t1_800_amort/0/val_image.npy\")\n",
    "target_array = np.load(\"/home/viscent/hdd/viscent/SR-UNet/experiments/output_vae_dhcp_t1_800_amort/0/val_target.npy\")\n",
    "image_tensor = torch.tensor(image_array).unsqueeze(0).cuda()\n",
    "target_tensor = torch.tensor(image_array).unsqueeze(0).cuda()\n",
    "# image_tensor = image_tensor.repeat(3,1,1,1,1)"
   ]
  },
  {
   "cell_type": "code",
   "execution_count": 73,
   "metadata": {},
   "outputs": [],
   "source": [
    "# image_tensor.shape"
   ]
  },
  {
   "cell_type": "code",
   "execution_count": 74,
   "metadata": {},
   "outputs": [],
   "source": [
    "# with torch.cuda.amp.autocast(enabled=True):\n",
    "# torch.cuda.set_device(0)\n",
    "model.cuda()\n",
    "# engine.train()\n",
    "image_tensor = image_tensor.cuda()\n",
    "target_tensor = target_tensor.cuda()\n",
    "output = model(image_tensor)\n",
    "# output = trainer.engine(image_tensor)"
   ]
  },
  {
   "cell_type": "code",
   "execution_count": 75,
   "metadata": {},
   "outputs": [
    {
     "name": "stdout",
     "output_type": "stream",
     "text": [
      "mse: 1.6029091\n",
      "kl: 33263.93\n",
      "Free energy: 9.918892\n"
     ]
    }
   ],
   "source": [
    "im = target_tensor\n",
    "im_hat=output\n",
    "mse = torch.nn.MSELoss()(im, im_hat)\n",
    "print('mse:', mse.cpu().detach().numpy())\n",
    "if not UNET:\n",
    "    mu, logvar = model.enc_mu,model.enc_logvar\n",
    "    kl = 0.5 * (logvar.exp() + mu**2 - 1 - logvar)\n",
    "    kl = torch.sum(kl)\n",
    "    FE_simple = mse + 0.00025 * kl\n",
    "    print('kl:', kl.cpu().detach().numpy())\n",
    "    print('Free energy:', FE_simple.cpu().detach().numpy())"
   ]
  },
  {
   "cell_type": "code",
   "execution_count": 76,
   "metadata": {},
   "outputs": [],
   "source": [
    "# with torch.cuda.amp.autocast(enabled=True):\n",
    "#     print(model)"
   ]
  },
  {
   "cell_type": "code",
   "execution_count": 77,
   "metadata": {},
   "outputs": [],
   "source": [
    "output_array = output.cpu().detach().numpy().astype(np.float32)\n",
    "output_image=sitk.GetImageFromArray(output_array)\n",
    "sitk.WriteImage(output_image,OUTPUT_PREFIX+\"_output.nii.gz\")"
   ]
  },
  {
   "cell_type": "code",
   "execution_count": 78,
   "metadata": {},
   "outputs": [],
   "source": [
    "# image_array.shape"
   ]
  },
  {
   "cell_type": "code",
   "execution_count": 79,
   "metadata": {},
   "outputs": [
    {
     "name": "stdout",
     "output_type": "stream",
     "text": [
      "Image\n"
     ]
    },
    {
     "data": {
      "text/plain": [
       "Text(0.5, 1.0, 'Image')"
      ]
     },
     "execution_count": 79,
     "metadata": {},
     "output_type": "execute_result"
    },
    {
     "data": {
      "image/png": "[encoded data removed]",
      "text/plain": [
       "<Figure size 432x288 with 1 Axes>"
      ]
     },
     "metadata": {
      "needs_background": "light"
     },
     "output_type": "display_data"
    }
   ],
   "source": [
    "print(\"Image\")\n",
    "plt.imshow(image_array[0,image_array.shape[1]//2,...],cmap='gray')\n",
    "plt.title(\"Image\")"
   ]
  },
  {
   "cell_type": "code",
   "execution_count": 80,
   "metadata": {},
   "outputs": [],
   "source": [
    "# image_tensor.shape"
   ]
  },
  {
   "cell_type": "code",
   "execution_count": 81,
   "metadata": {},
   "outputs": [
    {
     "name": "stdout",
     "output_type": "stream",
     "text": [
      "Output\n"
     ]
    },
    {
     "data": {
      "text/plain": [
       "Text(0.5, 1.0, 'Output')"
      ]
     },
     "execution_count": 81,
     "metadata": {},
     "output_type": "execute_result"
    },
    {
     "data": {
      "image/png": "[encoded data removed]",
      "text/plain": [
       "<Figure size 432x288 with 1 Axes>"
      ]
     },
     "metadata": {
      "needs_background": "light"
     },
     "output_type": "display_data"
    }
   ],
   "source": [
    "print(\"Output\")\n",
    "plt.imshow(output_array[0,0,output_array.shape[2]//2,...],cmap='gray')\n",
    "plt.title(\"Output\")"
   ]
  },
  {
   "cell_type": "code",
   "execution_count": 82,
   "metadata": {},
   "outputs": [
    {
     "name": "stdout",
     "output_type": "stream",
     "text": [
      "Target\n"
     ]
    },
    {
     "data": {
      "text/plain": [
       "Text(0.5, 1.0, 'Target')"
      ]
     },
     "execution_count": 82,
     "metadata": {},
     "output_type": "execute_result"
    },
    {
     "data": {
      "image/png": "[encoded data removed]",
      "text/plain": [
       "<Figure size 432x288 with 1 Axes>"
      ]
     },
     "metadata": {
      "needs_background": "light"
     },
     "output_type": "display_data"
    }
   ],
   "source": [
    "print(\"Target\")\n",
    "plt.imshow(target_array[0,40,...],cmap='gray')\n",
    "plt.title(\"Target\")"
   ]
  },
  {
   "cell_type": "code",
   "execution_count": 83,
   "metadata": {},
   "outputs": [],
   "source": [
    "# for encoder in model.encoders:\n",
    "#     for param in encoder.parameters():\n",
    "#         param.requires_grad = False\n",
    "#         param.fill_(0)\n",
    "# for decoder in model.decoders:\n",
    "#     for param in decoder.parameters():\n",
    "#         param.requires_grad = False\n",
    "#         param.fill_(0)"
   ]
  },
  {
   "cell_type": "code",
   "execution_count": null,
   "metadata": {},
   "outputs": [],
   "source": [
    "model.logvar.bias"
   ]
  },
  {
   "cell_type": "code",
   "execution_count": 22,
   "metadata": {},
   "outputs": [
    {
     "name": "stdout",
     "output_type": "stream",
     "text": [
      "Conv3d(1, 8, kernel_size=(3, 3, 3), stride=(1, 1, 1), padding=(1, 1, 1), bias=False)\n",
      "Conv3d(8, 16, kernel_size=(3, 3, 3), stride=(1, 1, 1), padding=(1, 1, 1), bias=False)\n",
      "Conv3d(16, 16, kernel_size=(3, 3, 3), stride=(1, 1, 1), padding=(1, 1, 1), bias=False)\n",
      "Conv3d(16, 32, kernel_size=(3, 3, 3), stride=(1, 1, 1), padding=(1, 1, 1), bias=False)\n",
      "Conv3d(32, 32, kernel_size=(3, 3, 3), stride=(1, 1, 1), padding=(1, 1, 1), bias=False)\n",
      "Conv3d(32, 64, kernel_size=(3, 3, 3), stride=(1, 1, 1), padding=(1, 1, 1), bias=False)\n",
      "Conv3d(64, 64, kernel_size=(3, 3, 3), stride=(1, 1, 1), padding=(1, 1, 1), bias=False)\n",
      "Conv3d(64, 128, kernel_size=(3, 3, 3), stride=(1, 1, 1), padding=(1, 1, 1), bias=False)\n",
      "Conv3d(128, 128, kernel_size=(3, 3, 3), stride=(1, 1, 1), padding=(1, 1, 1), bias=False)\n",
      "Conv3d(128, 256, kernel_size=(3, 3, 3), stride=(1, 1, 1), padding=(1, 1, 1), bias=False)\n",
      "Conv3d(384, 128, kernel_size=(3, 3, 3), stride=(1, 1, 1), padding=(1, 1, 1), bias=False)\n",
      "Conv3d(128, 128, kernel_size=(3, 3, 3), stride=(1, 1, 1), padding=(1, 1, 1), bias=False)\n",
      "Conv3d(192, 64, kernel_size=(3, 3, 3), stride=(1, 1, 1), padding=(1, 1, 1), bias=False)\n",
      "Conv3d(64, 64, kernel_size=(3, 3, 3), stride=(1, 1, 1), padding=(1, 1, 1), bias=False)\n",
      "Conv3d(96, 32, kernel_size=(3, 3, 3), stride=(1, 1, 1), padding=(1, 1, 1), bias=False)\n",
      "Conv3d(32, 32, kernel_size=(3, 3, 3), stride=(1, 1, 1), padding=(1, 1, 1), bias=False)\n",
      "Conv3d(48, 16, kernel_size=(3, 3, 3), stride=(1, 1, 1), padding=(1, 1, 1), bias=False)\n",
      "Conv3d(16, 16, kernel_size=(3, 3, 3), stride=(1, 1, 1), padding=(1, 1, 1), bias=False)\n",
      "Conv3d(16, 1, kernel_size=(1, 1, 1), stride=(1, 1, 1))\n"
     ]
    }
   ],
   "source": [
    "import torch.nn as nn\n",
    "for x in model.modules():\n",
    "    if isinstance(x, nn.Conv3d):\n",
    "        print(x)\n",
    "        x.requires_grad_(False)\n",
    "        x.weight.fill_(0)"
   ]
  },
  {
   "cell_type": "code",
   "execution_count": null,
   "metadata": {},
   "outputs": [],
   "source": [
    "model.train()"
   ]
  },
  {
   "cell_type": "code",
   "execution_count": null,
   "metadata": {},
   "outputs": [],
   "source": [
    "if not UNET:\n",
    "    for param in model.logvar.parameters():\n",
    "        param.requires_grad = False\n",
    "        param.fill_(-65535)\n",
    "    output_0mu = engine(image_tensor)\n",
    "    output_0mu_array = output_0mu.cpu().detach().numpy().astype(np.float32)\n",
    "    output_0mu_image=sitk.GetImageFromArray(output_0mu_array)\n",
    "    print(\"Output μ=0\")\n",
    "    \n",
    "    fig,(ax1,ax2) = plt.subplots(1,2)\n",
    "    im1 = ax1.imshow(output_array[0,0,40,...],cmap='gray')\n",
    "    ax1.set_title(\"Output\")\n",
    "\n",
    "    im2 = ax2.imshow(output_0mu_array[0,0,40,...],cmap='gray')\n",
    "    ax2.set_title(\"Output μ=0\")\n",
    "else:\n",
    "    for param in model.encoders[0].parameters():\n",
    "        param.requires_grad = False\n",
    "        param.fill_(0)\n",
    "    output_0latent = model(image_tensor)\n",
    "    output_0latent_array = output_0latent.cpu().detach().numpy()\n",
    "    output_0latent_image=sitk.GetImageFromArray(output_0latent_array)\n",
    "    print(\"Output latent=0\")\n",
    "\n",
    "    fig,(ax1,ax2) = plt.subplots(1,2)\n",
    "    im1 = ax1.imshow(output_array[0,0,40,...],cmap='gray')\n",
    "    ax1.set_title(\"Output\")\n",
    "\n",
    "    im2 = ax2.imshow(output_0latent_array[0,0,40,...],cmap='gray')\n",
    "    ax2.set_title(\"Output latent=0\")\n",
    "plt.savefig(OUTPUT_PREFIX+\"_output.png\")"
   ]
  },
  {
   "cell_type": "code",
   "execution_count": null,
   "metadata": {},
   "outputs": [],
   "source": [
    "make_dot(output,params=dict(model.named_parameters())).render(OUTPUT_PREFIX+\"_structure\")"
   ]
  },
  {
   "cell_type": "code",
   "execution_count": null,
   "metadata": {},
   "outputs": [],
   "source": [
    "UNET = False\n",
    "CKPT_DIR = \"/media/hdd/viscent/SR-UNet/experiments/output_vae_1024_t1/checkpoints/fold_0/199.pth\"\n",
    "OUTPUT_ROOT = \"/media/hdd/viscent/SR-UNet/inference\"\n",
    "OUTPUT_PREFIX = input(\"B-UNet File prefix: \")\n",
    "OUTPUT_PREFIX = os.path.join(OUTPUT_ROOT,OUTPUT_PREFIX)\n",
    "\n",
    "if not UNET:\n",
    "    model = BUNet3D(in_channels=1,\n",
    "            out_channels=1,\n",
    "            f_maps=[16, 32, 64, 128, 256],\n",
    "            layer_order='gcr',\n",
    "            num_groups=8,\n",
    "            is_segmentation=False,\n",
    "            latent_size=1024,\n",
    "            alpha=0.00025,\n",
    "            )\n",
    "else:\n",
    "    model = UNet3D(in_channels=1,\n",
    "            out_channels=1,\n",
    "            f_maps=[16, 32, 64, 128, 256],\n",
    "            layer_order='gcr',\n",
    "            num_groups=8,\n",
    "            is_segmentation=False,\n",
    "    )\n",
    "ckpt = torch.load(CKPT_DIR)\n",
    "if ckpt.get('model') is None:\n",
    "    state_dict = ckpt['state_dict']\n",
    "    _state_dict = {}\n",
    "    for key in state_dict.keys():\n",
    "        _state_dict[key.replace(\"model.\",\"\")] = state_dict[key]\n",
    "    model.load_state_dict(_state_dict)\n",
    "else:\n",
    "    model.load_state_dict(ckpt[\"model\"])"
   ]
  },
  {
   "cell_type": "code",
   "execution_count": null,
   "metadata": {},
   "outputs": [],
   "source": [
    "encoder_weights = next(model.encoders[-1].parameters())\n",
    "encoder_weights = encoder_weights.cpu().detach().numpy()\n",
    "encoder_weights= np.expand_dims(encoder_weights,axis=1)\n",
    "encoder_weights = np.repeat(encoder_weights, 128, axis=1)\n",
    "if not UNET:\n",
    "    fig,(ax1,ax2) = plt.subplots(1,2)\n",
    "    im1 = ax1.imshow(encoder_weights)\n",
    "    ax1.set_title(\"encoder weights\")\n",
    "    divider = make_axes_locatable(ax1)\n",
    "    cax = divider.append_axes(\"right\", size=\"5%\", pad=0.05)\n",
    "    fig.colorbar(im1, cax=cax, orientation=\"vertical\")\n",
    "\n",
    "    latent_weights = next(model.mu.parameters())\n",
    "    latent_weights = latent_weights.cpu().detach().numpy()\n",
    "    latent_weights = np.repeat(latent_weights, 128, axis=1)\n",
    "\n",
    "    im2 = ax2.imshow(latent_weights)\n",
    "    ax2.set_title(\"latent weights\")\n",
    "    divider = make_axes_locatable(ax2)\n",
    "    cax = divider.append_axes(\"right\", size=\"5%\", pad=0.05)\n",
    "    fig.colorbar(im2, cax=cax, orientation=\"vertical\")\n",
    "    fig.show()\n",
    "else:\n",
    "    fig = plt.imshow(encoder_weights)\n",
    "    plt.title(\"encoder weights\")\n",
    "    plt.colorbar()\n",
    "    plt.show()\n",
    "plt.savefig(OUTPUT_PREFIX+\"_encoder_weights.png\")"
   ]
  },
  {
   "cell_type": "code",
   "execution_count": null,
   "metadata": {},
   "outputs": [],
   "source": [
    "image = sitk.ReadImage(\"/media/hdd/viscent/SynthSR/generated_data_multimodal/0008_image_t1.nii.gz\")\n",
    "target = sitk.ReadImage(\"/media/hdd/viscent/SynthSR/generated_data_multimodal/0008_target.nii.gz\")\n",
    "image_array = sitk.GetArrayFromImage(image)\n",
    "target_array = sitk.GetArrayFromImage(target)\n",
    "image_tensor = torch.tensor(image_array).unsqueeze(0).unsqueeze(0)\n",
    "target_tensor = torch.tensor(target_array).unsqueeze(0).unsqueeze(0)"
   ]
  },
  {
   "cell_type": "code",
   "execution_count": null,
   "metadata": {},
   "outputs": [],
   "source": [
    "torch.cuda.set_device(0)\n",
    "model.cuda()\n",
    "model.train()\n",
    "image_tensor = image_tensor.cuda()\n",
    "target_tensor = target_tensor.cuda()\n",
    "output = model(image_tensor)\n"
   ]
  },
  {
   "cell_type": "code",
   "execution_count": null,
   "metadata": {},
   "outputs": [],
   "source": [
    "im = image_tensor\n",
    "im_hat=output\n",
    "mse = torch.nn.MSELoss()(im, im_hat)\n",
    "print('mse:', mse.cpu().detach().numpy())\n",
    "if not UNET:\n",
    "    mu, logvar = model.enc_mu, model.enc_logvar\n",
    "    kl = 0.5 * (logvar.exp() + mu**2 - 1 - logvar)\n",
    "    kl = torch.sum(kl)\n",
    "    FE_simple = mse + 0.00025 * kl\n",
    "    print('kl:', kl.cpu().detach().numpy())\n",
    "    print('Free energy:', FE_simple.cpu().detach().numpy())"
   ]
  },
  {
   "cell_type": "code",
   "execution_count": null,
   "metadata": {},
   "outputs": [],
   "source": [
    "output_array = output.cpu().detach().numpy()\n",
    "output_image=sitk.GetImageFromArray(output_array)\n",
    "sitk.WriteImage(output_image,OUTPUT_PREFIX+\"_output.nii\")"
   ]
  },
  {
   "cell_type": "code",
   "execution_count": null,
   "metadata": {},
   "outputs": [],
   "source": [
    "print(\"Image\")\n",
    "plt.imshow(image_array[40,...],cmap='gray')\n",
    "plt.title(\"Image\")"
   ]
  },
  {
   "cell_type": "code",
   "execution_count": null,
   "metadata": {},
   "outputs": [],
   "source": [
    "print(\"Output\")\n",
    "plt.imshow(output_array[0,0,40,...],cmap='gray')\n",
    "plt.title(\"Output\")"
   ]
  },
  {
   "cell_type": "code",
   "execution_count": null,
   "metadata": {},
   "outputs": [],
   "source": [
    "print(\"Target\")\n",
    "plt.imshow(target_array[40,...],cmap='gray')\n",
    "plt.title(\"Target\")"
   ]
  },
  {
   "cell_type": "code",
   "execution_count": null,
   "metadata": {},
   "outputs": [],
   "source": [
    "if not UNET:\n",
    "    for param in model.mu.parameters():\n",
    "        param.requires_grad = False\n",
    "        param.fill_(0)\n",
    "    output_0mu = model(image_tensor)\n",
    "    output_0mu_array = output_0mu.cpu().detach().numpy()\n",
    "    output_0mu_image=sitk.GetImageFromArray(output_0mu_array)\n",
    "    print(\"Output μ=0\")\n",
    "    \n",
    "    fig,(ax1,ax2) = plt.subplots(1,2)\n",
    "    im1 = ax1.imshow(output_array[0,0,40,...],cmap='gray')\n",
    "    ax1.set_title(\"Output\")\n",
    "\n",
    "    im2 = ax2.imshow(output_0mu_array[0,0,40,...],cmap='gray')\n",
    "    ax2.set_title(\"Output μ=0\")\n",
    "else:\n",
    "    for param in model.encoders[0].parameters():\n",
    "        param.requires_grad = False\n",
    "        param.fill_(0)\n",
    "    output_0latent = model(image_tensor)\n",
    "    output_0latent_array = output_0latent.cpu().detach().numpy()\n",
    "    output_0latent_image=sitk.GetImageFromArray(output_0latent_array)\n",
    "    print(\"Output latent=0\")\n",
    "\n",
    "    fig,(ax1,ax2) = plt.subplots(1,2)\n",
    "    im1 = ax1.imshow(output_array[0,0,40,...],cmap='gray')\n",
    "    ax1.set_title(\"Output\")\n",
    "\n",
    "    im2 = ax2.imshow(output_0latent_array[0,0,40,...],cmap='gray')\n",
    "    ax2.set_title(\"Output latent=0\")\n",
    "plt.savefig(OUTPUT_PREFIX+\"_output_0.png\")"
   ]
  },
  {
   "cell_type": "code",
   "execution_count": null,
   "metadata": {},
   "outputs": [],
   "source": [
    "make_dot(output,params=dict(model.named_parameters())).render(OUTPUT_PREFIX+\"_structure\")"
   ]
  }
 ],
 "metadata": {
  "interpreter": {
   "hash": "5023b5ad8fb50cea70bd0bb92039e38e5f5468d4f2da817e095a49bc032fdc4b"
  },
  "kernelspec": {
   "display_name": "Python 3.8.13 ('bunet')",
   "language": "python",
   "name": "python3"
  },
  "language_info": {
   "codemirror_mode": {
    "name": "ipython",
    "version": 3
   },
   "file_extension": ".py",
   "mimetype": "text/x-python",
   "name": "python",
   "nbconvert_exporter": "python",
   "pygments_lexer": "ipython3",
   "version": "3.10.4"
  },
  "orig_nbformat": 4
 },
 "nbformat": 4,
 "nbformat_minor": 2
}
